{
 "cells": [
  {
   "cell_type": "markdown",
   "metadata": {},
   "source": [
    "## Importing Libraries"
   ]
  },
  {
   "cell_type": "code",
   "execution_count": 2,
   "metadata": {},
   "outputs": [],
   "source": [
    "import os\n",
    "import random\n",
    "\n",
    "import torch\n",
    "import torch.nn as nn\n",
    "import torch.optim as optim\n",
    "import torchvision\n",
    "from torchvision import datasets, transforms\n",
    "\n",
    "import time\n",
    "import copy\n",
    "import numpy as np\n",
    "from tqdm import tqdm\n",
    "from clampfloat import *\n",
    "from datasets import load_dataset\n",
    "from dataclasses import dataclass, field\n",
    "from transformers import GPT2Tokenizer, GPT2Model\n",
    "from transformers import GPT2LMHeadModel, GPT2TokenizerFast, BertTokenizer,BertForMaskedLM\n",
    "\n",
    "from matplotlib import cm\n",
    "import matplotlib.pyplot as plt\n",
    "%matplotlib inline\n",
    "\n",
    "import warnings\n",
    "warnings.filterwarnings(\"ignore\")"
   ]
  },
  {
   "cell_type": "code",
   "execution_count": 3,
   "metadata": {},
   "outputs": [],
   "source": [
    "cuda_device = torch.device(\"cuda:0\")\n",
    "cpu_device = torch.device(\"cpu:0\")"
   ]
  },
  {
   "cell_type": "code",
   "execution_count": 4,
   "metadata": {},
   "outputs": [],
   "source": [
    "device = torch.device(\"cuda:0\" if torch.cuda.is_available() else \"cpu\")"
   ]
  },
  {
   "cell_type": "code",
   "execution_count": 5,
   "metadata": {},
   "outputs": [],
   "source": [
    "def set_random_seeds(random_seed=0):\n",
    "\n",
    "    torch.manual_seed(random_seed)\n",
    "    np.random.seed(random_seed)\n",
    "    random.seed(random_seed)"
   ]
  },
  {
   "cell_type": "markdown",
   "metadata": {},
   "source": [
    "## Dataset and DataLoaders"
   ]
  },
  {
   "cell_type": "code",
   "execution_count": 6,
   "metadata": {},
   "outputs": [],
   "source": [
    "batch_size = 32"
   ]
  },
  {
   "cell_type": "code",
   "execution_count": 7,
   "metadata": {},
   "outputs": [],
   "source": [
    "transform = transforms.Compose([\n",
    "            transforms.Resize(256),\n",
    "            transforms.CenterCrop(224),\n",
    "            transforms.ToTensor(),\n",
    "            transforms.Normalize(\n",
    "            mean=[0.485, 0.456, 0.406],\n",
    "            std=[0.229, 0.224, 0.225]\n",
    "            )])"
   ]
  },
  {
   "cell_type": "code",
   "execution_count": 8,
   "metadata": {},
   "outputs": [
    {
     "name": "stdout",
     "output_type": "stream",
     "text": [
      "Files already downloaded and verified\n",
      "Files already downloaded and verified\n"
     ]
    }
   ],
   "source": [
    "train_set = torchvision.datasets.CIFAR10(root=\"data\", train=True, download=True, transform=transform)\n",
    "test_set = torchvision.datasets.CIFAR10(root=\"data\", train=False, download=True, transform=transform)"
   ]
  },
  {
   "cell_type": "code",
   "execution_count": 9,
   "metadata": {},
   "outputs": [],
   "source": [
    "train_loader = torch.utils.data.DataLoader(dataset=train_set, batch_size=batch_size)\n",
    "\n",
    "test_loader = torch.utils.data.DataLoader(dataset=test_set, batch_size=batch_size)"
   ]
  },
  {
   "cell_type": "markdown",
   "metadata": {},
   "source": [
    "## Helper Functions for Imagenet Models"
   ]
  },
  {
   "cell_type": "code",
   "execution_count": 10,
   "metadata": {},
   "outputs": [],
   "source": [
    "def evaluate_model(model, test_loader, device):\n",
    "\n",
    "    model.eval()\n",
    "    model.to(device)\n",
    "\n",
    "    correct = 0\n",
    "    total = 0\n",
    "\n",
    "    with torch.no_grad():\n",
    "        for data in test_loader:\n",
    "            images, labels = data[0].to(device), data[1].to(device)\n",
    "            outputs = model(images)\n",
    "            _, predicted = torch.max(outputs.data, 1)\n",
    "            total += labels.size(0)\n",
    "            correct += (predicted == labels).sum().item()\n",
    "\n",
    "    return correct/total"
   ]
  },
  {
   "cell_type": "code",
   "execution_count": 11,
   "metadata": {},
   "outputs": [],
   "source": [
    "def measure_inference_latency(model, device, input_size=(1, 3, 224, 224), num_samples=100, num_warmups=10):\n",
    "\n",
    "    model.to(device)\n",
    "    model.eval()\n",
    "\n",
    "    x = torch.rand(size=input_size).to(device)\n",
    "\n",
    "    with torch.no_grad():\n",
    "        for _ in range(num_warmups):\n",
    "            _ = model(x)\n",
    "    torch.cuda.synchronize()\n",
    "\n",
    "    with torch.no_grad():\n",
    "        start_time = time.time()\n",
    "        for _ in range(num_samples):\n",
    "            _ = model(x)\n",
    "            torch.cuda.synchronize()\n",
    "        end_time = time.time()\n",
    "    elapsed_time = end_time - start_time\n",
    "    elapsed_time_ave = elapsed_time / num_samples\n",
    "\n",
    "    return elapsed_time_ave"
   ]
  },
  {
   "cell_type": "markdown",
   "metadata": {},
   "source": [
    "## Custom Float Class"
   ]
  },
  {
   "cell_type": "code",
   "execution_count": 12,
   "metadata": {},
   "outputs": [],
   "source": [
    "@dataclass\n",
    "class CustomFloat:\n",
    "    signed: bool = True\n",
    "    exponent: int = 8\n",
    "    mantisa: int = 23"
   ]
  },
  {
   "cell_type": "code",
   "execution_count": 13,
   "metadata": {},
   "outputs": [],
   "source": [
    "def quantizemodel(model: torch.nn.Module, cfloat: CustomFloat,\n",
    "                    allowLayerClamp = True, fixBias = True):\n",
    "    \n",
    "    for param in model.parameters():\n",
    "        param.requires_grad = True\n",
    "\n",
    "    if not allowLayerClamp:\n",
    "        return\n",
    "    \n",
    "    on = 1 if cfloat.signed else 0\n",
    "\n",
    "    for name, param in model.named_parameters():\n",
    "        if param.requires_grad:\n",
    "            if (\"bias\" in name and fixBias):\n",
    "                hData = param.data.detach().numpy()\n",
    "                vec_clamp_float(hData,on,cfloat.exponent,cfloat.mantisa)\n",
    "                param.data = nn.Parameter(torch.from_numpy(hData))\n",
    "            elif(\"weight\" in name):\n",
    "                hData = param.data.detach().numpy()\n",
    "                vec_clamp_float(hData,on,cfloat.exponent,cfloat.mantisa)\n",
    "                param.data = nn.Parameter(torch.from_numpy(hData))\n"
   ]
  },
  {
   "cell_type": "markdown",
   "metadata": {},
   "source": [
    "## Quantizing Imagenet Models"
   ]
  },
  {
   "cell_type": "markdown",
   "metadata": {},
   "source": [
    "### 1. AlexNet"
   ]
  },
  {
   "cell_type": "code",
   "execution_count": 13,
   "metadata": {},
   "outputs": [
    {
     "data": {
      "text/plain": [
       "AlexNet(\n",
       "  (features): Sequential(\n",
       "    (0): Conv2d(3, 64, kernel_size=(11, 11), stride=(4, 4), padding=(2, 2))\n",
       "    (1): ReLU(inplace=True)\n",
       "    (2): MaxPool2d(kernel_size=3, stride=2, padding=0, dilation=1, ceil_mode=False)\n",
       "    (3): Conv2d(64, 192, kernel_size=(5, 5), stride=(1, 1), padding=(2, 2))\n",
       "    (4): ReLU(inplace=True)\n",
       "    (5): MaxPool2d(kernel_size=3, stride=2, padding=0, dilation=1, ceil_mode=False)\n",
       "    (6): Conv2d(192, 384, kernel_size=(3, 3), stride=(1, 1), padding=(1, 1))\n",
       "    (7): ReLU(inplace=True)\n",
       "    (8): Conv2d(384, 256, kernel_size=(3, 3), stride=(1, 1), padding=(1, 1))\n",
       "    (9): ReLU(inplace=True)\n",
       "    (10): Conv2d(256, 256, kernel_size=(3, 3), stride=(1, 1), padding=(1, 1))\n",
       "    (11): ReLU(inplace=True)\n",
       "    (12): MaxPool2d(kernel_size=3, stride=2, padding=0, dilation=1, ceil_mode=False)\n",
       "  )\n",
       "  (avgpool): AdaptiveAvgPool2d(output_size=(6, 6))\n",
       "  (classifier): Sequential(\n",
       "    (0): Dropout(p=0.5, inplace=False)\n",
       "    (1): Linear(in_features=9216, out_features=4096, bias=True)\n",
       "    (2): ReLU(inplace=True)\n",
       "    (3): Dropout(p=0.5, inplace=False)\n",
       "    (4): Linear(in_features=4096, out_features=1024, bias=True)\n",
       "    (5): ReLU(inplace=True)\n",
       "    (6): Linear(in_features=1024, out_features=10, bias=True)\n",
       "  )\n",
       ")"
      ]
     },
     "execution_count": 13,
     "metadata": {},
     "output_type": "execute_result"
    }
   ],
   "source": [
    "alexnet = torch.load(\"models/alexnet.pt\")\n",
    "alexnet.to(cpu_device)"
   ]
  },
  {
   "cell_type": "code",
   "execution_count": 14,
   "metadata": {},
   "outputs": [],
   "source": [
    "man_bits = np.arange(1, 24, 2)\n",
    "exp_bits = np.arange(1, 9, 2)\n",
    "\n",
    "for m_bits in man_bits:\n",
    "    for e_bits in exp_bits:\n",
    "        model = copy.deepcopy(alexnet)\n",
    "        model.to(cpu_device)\n",
    "        model.train()\n",
    "        floatinfo = CustomFloat(True, e_bits, m_bits)\n",
    "        quantizemodel(model, floatinfo)\n",
    "        torch.save(model, \"models/quantized_models/alexnets/alexnet_1_{}_{}.pt\".format(e_bits, m_bits))"
   ]
  },
  {
   "cell_type": "markdown",
   "metadata": {},
   "source": [
    "### 2. ResNet50"
   ]
  },
  {
   "cell_type": "code",
   "execution_count": 16,
   "metadata": {},
   "outputs": [
    {
     "data": {
      "text/plain": [
       "ResNet(\n",
       "  (conv1): Conv2d(3, 64, kernel_size=(7, 7), stride=(2, 2), padding=(3, 3), bias=False)\n",
       "  (bn1): BatchNorm2d(64, eps=1e-05, momentum=0.1, affine=True, track_running_stats=True)\n",
       "  (relu): ReLU(inplace=True)\n",
       "  (maxpool): MaxPool2d(kernel_size=3, stride=2, padding=1, dilation=1, ceil_mode=False)\n",
       "  (layer1): Sequential(\n",
       "    (0): Bottleneck(\n",
       "      (conv1): Conv2d(64, 64, kernel_size=(1, 1), stride=(1, 1), bias=False)\n",
       "      (bn1): BatchNorm2d(64, eps=1e-05, momentum=0.1, affine=True, track_running_stats=True)\n",
       "      (conv2): Conv2d(64, 64, kernel_size=(3, 3), stride=(1, 1), padding=(1, 1), bias=False)\n",
       "      (bn2): BatchNorm2d(64, eps=1e-05, momentum=0.1, affine=True, track_running_stats=True)\n",
       "      (conv3): Conv2d(64, 256, kernel_size=(1, 1), stride=(1, 1), bias=False)\n",
       "      (bn3): BatchNorm2d(256, eps=1e-05, momentum=0.1, affine=True, track_running_stats=True)\n",
       "      (relu): ReLU(inplace=True)\n",
       "      (downsample): Sequential(\n",
       "        (0): Conv2d(64, 256, kernel_size=(1, 1), stride=(1, 1), bias=False)\n",
       "        (1): BatchNorm2d(256, eps=1e-05, momentum=0.1, affine=True, track_running_stats=True)\n",
       "      )\n",
       "    )\n",
       "    (1): Bottleneck(\n",
       "      (conv1): Conv2d(256, 64, kernel_size=(1, 1), stride=(1, 1), bias=False)\n",
       "      (bn1): BatchNorm2d(64, eps=1e-05, momentum=0.1, affine=True, track_running_stats=True)\n",
       "      (conv2): Conv2d(64, 64, kernel_size=(3, 3), stride=(1, 1), padding=(1, 1), bias=False)\n",
       "      (bn2): BatchNorm2d(64, eps=1e-05, momentum=0.1, affine=True, track_running_stats=True)\n",
       "      (conv3): Conv2d(64, 256, kernel_size=(1, 1), stride=(1, 1), bias=False)\n",
       "      (bn3): BatchNorm2d(256, eps=1e-05, momentum=0.1, affine=True, track_running_stats=True)\n",
       "      (relu): ReLU(inplace=True)\n",
       "    )\n",
       "    (2): Bottleneck(\n",
       "      (conv1): Conv2d(256, 64, kernel_size=(1, 1), stride=(1, 1), bias=False)\n",
       "      (bn1): BatchNorm2d(64, eps=1e-05, momentum=0.1, affine=True, track_running_stats=True)\n",
       "      (conv2): Conv2d(64, 64, kernel_size=(3, 3), stride=(1, 1), padding=(1, 1), bias=False)\n",
       "      (bn2): BatchNorm2d(64, eps=1e-05, momentum=0.1, affine=True, track_running_stats=True)\n",
       "      (conv3): Conv2d(64, 256, kernel_size=(1, 1), stride=(1, 1), bias=False)\n",
       "      (bn3): BatchNorm2d(256, eps=1e-05, momentum=0.1, affine=True, track_running_stats=True)\n",
       "      (relu): ReLU(inplace=True)\n",
       "    )\n",
       "  )\n",
       "  (layer2): Sequential(\n",
       "    (0): Bottleneck(\n",
       "      (conv1): Conv2d(256, 128, kernel_size=(1, 1), stride=(1, 1), bias=False)\n",
       "      (bn1): BatchNorm2d(128, eps=1e-05, momentum=0.1, affine=True, track_running_stats=True)\n",
       "      (conv2): Conv2d(128, 128, kernel_size=(3, 3), stride=(2, 2), padding=(1, 1), bias=False)\n",
       "      (bn2): BatchNorm2d(128, eps=1e-05, momentum=0.1, affine=True, track_running_stats=True)\n",
       "      (conv3): Conv2d(128, 512, kernel_size=(1, 1), stride=(1, 1), bias=False)\n",
       "      (bn3): BatchNorm2d(512, eps=1e-05, momentum=0.1, affine=True, track_running_stats=True)\n",
       "      (relu): ReLU(inplace=True)\n",
       "      (downsample): Sequential(\n",
       "        (0): Conv2d(256, 512, kernel_size=(1, 1), stride=(2, 2), bias=False)\n",
       "        (1): BatchNorm2d(512, eps=1e-05, momentum=0.1, affine=True, track_running_stats=True)\n",
       "      )\n",
       "    )\n",
       "    (1): Bottleneck(\n",
       "      (conv1): Conv2d(512, 128, kernel_size=(1, 1), stride=(1, 1), bias=False)\n",
       "      (bn1): BatchNorm2d(128, eps=1e-05, momentum=0.1, affine=True, track_running_stats=True)\n",
       "      (conv2): Conv2d(128, 128, kernel_size=(3, 3), stride=(1, 1), padding=(1, 1), bias=False)\n",
       "      (bn2): BatchNorm2d(128, eps=1e-05, momentum=0.1, affine=True, track_running_stats=True)\n",
       "      (conv3): Conv2d(128, 512, kernel_size=(1, 1), stride=(1, 1), bias=False)\n",
       "      (bn3): BatchNorm2d(512, eps=1e-05, momentum=0.1, affine=True, track_running_stats=True)\n",
       "      (relu): ReLU(inplace=True)\n",
       "    )\n",
       "    (2): Bottleneck(\n",
       "      (conv1): Conv2d(512, 128, kernel_size=(1, 1), stride=(1, 1), bias=False)\n",
       "      (bn1): BatchNorm2d(128, eps=1e-05, momentum=0.1, affine=True, track_running_stats=True)\n",
       "      (conv2): Conv2d(128, 128, kernel_size=(3, 3), stride=(1, 1), padding=(1, 1), bias=False)\n",
       "      (bn2): BatchNorm2d(128, eps=1e-05, momentum=0.1, affine=True, track_running_stats=True)\n",
       "      (conv3): Conv2d(128, 512, kernel_size=(1, 1), stride=(1, 1), bias=False)\n",
       "      (bn3): BatchNorm2d(512, eps=1e-05, momentum=0.1, affine=True, track_running_stats=True)\n",
       "      (relu): ReLU(inplace=True)\n",
       "    )\n",
       "    (3): Bottleneck(\n",
       "      (conv1): Conv2d(512, 128, kernel_size=(1, 1), stride=(1, 1), bias=False)\n",
       "      (bn1): BatchNorm2d(128, eps=1e-05, momentum=0.1, affine=True, track_running_stats=True)\n",
       "      (conv2): Conv2d(128, 128, kernel_size=(3, 3), stride=(1, 1), padding=(1, 1), bias=False)\n",
       "      (bn2): BatchNorm2d(128, eps=1e-05, momentum=0.1, affine=True, track_running_stats=True)\n",
       "      (conv3): Conv2d(128, 512, kernel_size=(1, 1), stride=(1, 1), bias=False)\n",
       "      (bn3): BatchNorm2d(512, eps=1e-05, momentum=0.1, affine=True, track_running_stats=True)\n",
       "      (relu): ReLU(inplace=True)\n",
       "    )\n",
       "  )\n",
       "  (layer3): Sequential(\n",
       "    (0): Bottleneck(\n",
       "      (conv1): Conv2d(512, 256, kernel_size=(1, 1), stride=(1, 1), bias=False)\n",
       "      (bn1): BatchNorm2d(256, eps=1e-05, momentum=0.1, affine=True, track_running_stats=True)\n",
       "      (conv2): Conv2d(256, 256, kernel_size=(3, 3), stride=(2, 2), padding=(1, 1), bias=False)\n",
       "      (bn2): BatchNorm2d(256, eps=1e-05, momentum=0.1, affine=True, track_running_stats=True)\n",
       "      (conv3): Conv2d(256, 1024, kernel_size=(1, 1), stride=(1, 1), bias=False)\n",
       "      (bn3): BatchNorm2d(1024, eps=1e-05, momentum=0.1, affine=True, track_running_stats=True)\n",
       "      (relu): ReLU(inplace=True)\n",
       "      (downsample): Sequential(\n",
       "        (0): Conv2d(512, 1024, kernel_size=(1, 1), stride=(2, 2), bias=False)\n",
       "        (1): BatchNorm2d(1024, eps=1e-05, momentum=0.1, affine=True, track_running_stats=True)\n",
       "      )\n",
       "    )\n",
       "    (1): Bottleneck(\n",
       "      (conv1): Conv2d(1024, 256, kernel_size=(1, 1), stride=(1, 1), bias=False)\n",
       "      (bn1): BatchNorm2d(256, eps=1e-05, momentum=0.1, affine=True, track_running_stats=True)\n",
       "      (conv2): Conv2d(256, 256, kernel_size=(3, 3), stride=(1, 1), padding=(1, 1), bias=False)\n",
       "      (bn2): BatchNorm2d(256, eps=1e-05, momentum=0.1, affine=True, track_running_stats=True)\n",
       "      (conv3): Conv2d(256, 1024, kernel_size=(1, 1), stride=(1, 1), bias=False)\n",
       "      (bn3): BatchNorm2d(1024, eps=1e-05, momentum=0.1, affine=True, track_running_stats=True)\n",
       "      (relu): ReLU(inplace=True)\n",
       "    )\n",
       "    (2): Bottleneck(\n",
       "      (conv1): Conv2d(1024, 256, kernel_size=(1, 1), stride=(1, 1), bias=False)\n",
       "      (bn1): BatchNorm2d(256, eps=1e-05, momentum=0.1, affine=True, track_running_stats=True)\n",
       "      (conv2): Conv2d(256, 256, kernel_size=(3, 3), stride=(1, 1), padding=(1, 1), bias=False)\n",
       "      (bn2): BatchNorm2d(256, eps=1e-05, momentum=0.1, affine=True, track_running_stats=True)\n",
       "      (conv3): Conv2d(256, 1024, kernel_size=(1, 1), stride=(1, 1), bias=False)\n",
       "      (bn3): BatchNorm2d(1024, eps=1e-05, momentum=0.1, affine=True, track_running_stats=True)\n",
       "      (relu): ReLU(inplace=True)\n",
       "    )\n",
       "    (3): Bottleneck(\n",
       "      (conv1): Conv2d(1024, 256, kernel_size=(1, 1), stride=(1, 1), bias=False)\n",
       "      (bn1): BatchNorm2d(256, eps=1e-05, momentum=0.1, affine=True, track_running_stats=True)\n",
       "      (conv2): Conv2d(256, 256, kernel_size=(3, 3), stride=(1, 1), padding=(1, 1), bias=False)\n",
       "      (bn2): BatchNorm2d(256, eps=1e-05, momentum=0.1, affine=True, track_running_stats=True)\n",
       "      (conv3): Conv2d(256, 1024, kernel_size=(1, 1), stride=(1, 1), bias=False)\n",
       "      (bn3): BatchNorm2d(1024, eps=1e-05, momentum=0.1, affine=True, track_running_stats=True)\n",
       "      (relu): ReLU(inplace=True)\n",
       "    )\n",
       "    (4): Bottleneck(\n",
       "      (conv1): Conv2d(1024, 256, kernel_size=(1, 1), stride=(1, 1), bias=False)\n",
       "      (bn1): BatchNorm2d(256, eps=1e-05, momentum=0.1, affine=True, track_running_stats=True)\n",
       "      (conv2): Conv2d(256, 256, kernel_size=(3, 3), stride=(1, 1), padding=(1, 1), bias=False)\n",
       "      (bn2): BatchNorm2d(256, eps=1e-05, momentum=0.1, affine=True, track_running_stats=True)\n",
       "      (conv3): Conv2d(256, 1024, kernel_size=(1, 1), stride=(1, 1), bias=False)\n",
       "      (bn3): BatchNorm2d(1024, eps=1e-05, momentum=0.1, affine=True, track_running_stats=True)\n",
       "      (relu): ReLU(inplace=True)\n",
       "    )\n",
       "    (5): Bottleneck(\n",
       "      (conv1): Conv2d(1024, 256, kernel_size=(1, 1), stride=(1, 1), bias=False)\n",
       "      (bn1): BatchNorm2d(256, eps=1e-05, momentum=0.1, affine=True, track_running_stats=True)\n",
       "      (conv2): Conv2d(256, 256, kernel_size=(3, 3), stride=(1, 1), padding=(1, 1), bias=False)\n",
       "      (bn2): BatchNorm2d(256, eps=1e-05, momentum=0.1, affine=True, track_running_stats=True)\n",
       "      (conv3): Conv2d(256, 1024, kernel_size=(1, 1), stride=(1, 1), bias=False)\n",
       "      (bn3): BatchNorm2d(1024, eps=1e-05, momentum=0.1, affine=True, track_running_stats=True)\n",
       "      (relu): ReLU(inplace=True)\n",
       "    )\n",
       "  )\n",
       "  (layer4): Sequential(\n",
       "    (0): Bottleneck(\n",
       "      (conv1): Conv2d(1024, 512, kernel_size=(1, 1), stride=(1, 1), bias=False)\n",
       "      (bn1): BatchNorm2d(512, eps=1e-05, momentum=0.1, affine=True, track_running_stats=True)\n",
       "      (conv2): Conv2d(512, 512, kernel_size=(3, 3), stride=(2, 2), padding=(1, 1), bias=False)\n",
       "      (bn2): BatchNorm2d(512, eps=1e-05, momentum=0.1, affine=True, track_running_stats=True)\n",
       "      (conv3): Conv2d(512, 2048, kernel_size=(1, 1), stride=(1, 1), bias=False)\n",
       "      (bn3): BatchNorm2d(2048, eps=1e-05, momentum=0.1, affine=True, track_running_stats=True)\n",
       "      (relu): ReLU(inplace=True)\n",
       "      (downsample): Sequential(\n",
       "        (0): Conv2d(1024, 2048, kernel_size=(1, 1), stride=(2, 2), bias=False)\n",
       "        (1): BatchNorm2d(2048, eps=1e-05, momentum=0.1, affine=True, track_running_stats=True)\n",
       "      )\n",
       "    )\n",
       "    (1): Bottleneck(\n",
       "      (conv1): Conv2d(2048, 512, kernel_size=(1, 1), stride=(1, 1), bias=False)\n",
       "      (bn1): BatchNorm2d(512, eps=1e-05, momentum=0.1, affine=True, track_running_stats=True)\n",
       "      (conv2): Conv2d(512, 512, kernel_size=(3, 3), stride=(1, 1), padding=(1, 1), bias=False)\n",
       "      (bn2): BatchNorm2d(512, eps=1e-05, momentum=0.1, affine=True, track_running_stats=True)\n",
       "      (conv3): Conv2d(512, 2048, kernel_size=(1, 1), stride=(1, 1), bias=False)\n",
       "      (bn3): BatchNorm2d(2048, eps=1e-05, momentum=0.1, affine=True, track_running_stats=True)\n",
       "      (relu): ReLU(inplace=True)\n",
       "    )\n",
       "    (2): Bottleneck(\n",
       "      (conv1): Conv2d(2048, 512, kernel_size=(1, 1), stride=(1, 1), bias=False)\n",
       "      (bn1): BatchNorm2d(512, eps=1e-05, momentum=0.1, affine=True, track_running_stats=True)\n",
       "      (conv2): Conv2d(512, 512, kernel_size=(3, 3), stride=(1, 1), padding=(1, 1), bias=False)\n",
       "      (bn2): BatchNorm2d(512, eps=1e-05, momentum=0.1, affine=True, track_running_stats=True)\n",
       "      (conv3): Conv2d(512, 2048, kernel_size=(1, 1), stride=(1, 1), bias=False)\n",
       "      (bn3): BatchNorm2d(2048, eps=1e-05, momentum=0.1, affine=True, track_running_stats=True)\n",
       "      (relu): ReLU(inplace=True)\n",
       "    )\n",
       "  )\n",
       "  (avgpool): AdaptiveAvgPool2d(output_size=(1, 1))\n",
       "  (fc): Linear(in_features=2048, out_features=10, bias=True)\n",
       ")"
      ]
     },
     "execution_count": 16,
     "metadata": {},
     "output_type": "execute_result"
    }
   ],
   "source": [
    "resnet50 = torch.load(\"models/resnet50.pt\")\n",
    "resnet50.to(cpu_device)"
   ]
  },
  {
   "cell_type": "code",
   "execution_count": 17,
   "metadata": {},
   "outputs": [],
   "source": [
    "man_bits = np.arange(1, 24, 2)\n",
    "exp_bits = np.arange(1, 9, 2)\n",
    "\n",
    "for m_bits in man_bits:\n",
    "    for e_bits in exp_bits:\n",
    "        model = copy.deepcopy(resnet50)\n",
    "        model.to(cpu_device)\n",
    "        model.train()\n",
    "        floatinfo = CustomFloat(True, e_bits, m_bits)\n",
    "        quantizemodel(model, floatinfo)\n",
    "        torch.save(model, \"models/quantized_models/resnets/resnet50_1_{}_{}.pt\".format(e_bits, m_bits))"
   ]
  },
  {
   "cell_type": "markdown",
   "metadata": {},
   "source": [
    "### 3. VGG19"
   ]
  },
  {
   "cell_type": "code",
   "execution_count": null,
   "metadata": {},
   "outputs": [],
   "source": [
    "vgg19 = torch.load(\"models/vgg19.pt\")\n",
    "vgg19.to(cpu_device)"
   ]
  },
  {
   "cell_type": "code",
   "execution_count": null,
   "metadata": {},
   "outputs": [],
   "source": [
    "man_bits = np.arange(1, 24, 2)\n",
    "exp_bits = np.arange(1, 9, 2)\n",
    "\n",
    "for m_bits in man_bits:\n",
    "    for e_bits in exp_bits:\n",
    "        model = copy.deepcopy(vgg19)\n",
    "        model.to(cpu_device)\n",
    "        model.train()\n",
    "        floatinfo = CustomFloat(True, e_bits, m_bits)\n",
    "        quantizemodel(model, floatinfo)\n",
    "        torch.save(model, \"models/quantized_models/vgg19s/vgg19_1_{}_{}.pt\".format(e_bits, m_bits))"
   ]
  },
  {
   "cell_type": "markdown",
   "metadata": {},
   "source": [
    "## Evaluating Quantized Imagenet Models"
   ]
  },
  {
   "cell_type": "code",
   "execution_count": 14,
   "metadata": {},
   "outputs": [],
   "source": [
    "def run(device, model, quantized_model_dir, model_series_name, test_loader, output_fname):\n",
    "    f = open(output_fname, \"w\")\n",
    "\n",
    "    print(f\"##################### {model_series_name} model #####################\")\n",
    "    f.write(f\"##################### {model_series_name} model #####################\\n\")\n",
    "    # Accuracy\n",
    "    acc = evaluate_model(model, test_loader, device)\n",
    "    print(\"Unquantized (FP32) {} Model evaluation accuracy: {:.3f}\".format(model_series_name, acc))\n",
    "    f.write(\"Unquantized (FP32) {} Model evaluation accuracy: {:.3f}\\n\".format(model_series_name, acc))\n",
    "    # Latency\n",
    "    latency = measure_inference_latency(model, device)\n",
    "    print(\"Unquantized (FP32) {} Model {} latency: {:.2f} ms / sample\".format(model_series_name, device, latency * 1000))\n",
    "    f.write(\"Unquantized (FP32) {} Model {} latency: {:.2f} ms / sample\\n\".format(model_series_name, device, latency * 1000))\n",
    "\n",
    "    man_bits = np.arange(1, 24, 2)\n",
    "    exp_bits = np.arange(1, 9, 2)\n",
    "\n",
    "    qacc = np.zeros((len(man_bits), len(exp_bits)))\n",
    "    qlatency = np.zeros((len(man_bits), len(exp_bits)))\n",
    "\n",
    "    for i,m_bits in enumerate(man_bits):\n",
    "        for j,e_bits in enumerate(exp_bits):\n",
    "            model_path = quantized_model_dir + f\"/{model_series_name}_1_{e_bits}_{m_bits}.pt\"\n",
    "            qmodel = torch.load(model_path)\n",
    "            qacc[i][j] = evaluate_model(qmodel, test_loader, device)\n",
    "            print(\"Quantized (s: 1 e: {} m: {}) {} Model evaluation accuracy: {:.3f}\".format(e_bits, m_bits, model_series_name, qacc[i][j]))\n",
    "            f.write(\"Quantized (s: 1 e: {} m: {}) {} Model evaluation accuracy: {:.3f}\\n\".format(e_bits, m_bits, model_series_name, qacc[i][j]))\n",
    "            qlatency[i][j] = measure_inference_latency(model, device)\n",
    "            print(\"Quantized (s: 1 e: {} m: {}) {} Model {} latency: {:.2f} ms / sample\".format(e_bits, m_bits, model_series_name, device, qlatency[i][j] * 1000))\n",
    "            f.write(\"Quantized (s: 1 e: {} m: {}) {} Model {} latency: {:.2f} ms / sample\\n\".format(e_bits, m_bits, model_series_name, device, qlatency[i][j] * 1000))\n",
    "\n",
    "    f.close()\n",
    "\n",
    "    return acc, latency, qacc, qlatency"
   ]
  },
  {
   "cell_type": "markdown",
   "metadata": {},
   "source": [
    "### 1. Alexnet"
   ]
  },
  {
   "cell_type": "code",
   "execution_count": 20,
   "metadata": {},
   "outputs": [
    {
     "name": "stdout",
     "output_type": "stream",
     "text": [
      "##################### alexnet model #####################\n",
      "Unquantized (FP32) alexnet Model evaluation accuracy: 0.849\n",
      "Unquantized (FP32) alexnet Model cuda:0 latency: 2.50 ms / sample\n",
      "Quantized (s: 1 e: 1 m: 1) alexnet Model evaluation accuracy: 0.107\n",
      "Quantized (s: 1 e: 1 m: 1) alexnet Model cuda:0 latency: 2.59 ms / sample\n",
      "Quantized (s: 1 e: 3 m: 1) alexnet Model evaluation accuracy: 0.098\n",
      "Quantized (s: 1 e: 3 m: 1) alexnet Model cuda:0 latency: 4.70 ms / sample\n",
      "Quantized (s: 1 e: 5 m: 1) alexnet Model evaluation accuracy: 0.730\n",
      "Quantized (s: 1 e: 5 m: 1) alexnet Model cuda:0 latency: 2.64 ms / sample\n",
      "Quantized (s: 1 e: 7 m: 1) alexnet Model evaluation accuracy: 0.730\n",
      "Quantized (s: 1 e: 7 m: 1) alexnet Model cuda:0 latency: 2.65 ms / sample\n",
      "Quantized (s: 1 e: 1 m: 3) alexnet Model evaluation accuracy: 0.108\n",
      "Quantized (s: 1 e: 1 m: 3) alexnet Model cuda:0 latency: 2.59 ms / sample\n",
      "Quantized (s: 1 e: 3 m: 3) alexnet Model evaluation accuracy: 0.105\n",
      "Quantized (s: 1 e: 3 m: 3) alexnet Model cuda:0 latency: 2.64 ms / sample\n",
      "Quantized (s: 1 e: 5 m: 3) alexnet Model evaluation accuracy: 0.843\n",
      "Quantized (s: 1 e: 5 m: 3) alexnet Model cuda:0 latency: 2.59 ms / sample\n",
      "Quantized (s: 1 e: 7 m: 3) alexnet Model evaluation accuracy: 0.843\n",
      "Quantized (s: 1 e: 7 m: 3) alexnet Model cuda:0 latency: 2.73 ms / sample\n",
      "Quantized (s: 1 e: 1 m: 5) alexnet Model evaluation accuracy: 0.109\n",
      "Quantized (s: 1 e: 1 m: 5) alexnet Model cuda:0 latency: 2.55 ms / sample\n",
      "Quantized (s: 1 e: 3 m: 5) alexnet Model evaluation accuracy: 0.105\n",
      "Quantized (s: 1 e: 3 m: 5) alexnet Model cuda:0 latency: 2.61 ms / sample\n",
      "Quantized (s: 1 e: 5 m: 5) alexnet Model evaluation accuracy: 0.849\n",
      "Quantized (s: 1 e: 5 m: 5) alexnet Model cuda:0 latency: 2.57 ms / sample\n",
      "Quantized (s: 1 e: 7 m: 5) alexnet Model evaluation accuracy: 0.849\n",
      "Quantized (s: 1 e: 7 m: 5) alexnet Model cuda:0 latency: 2.63 ms / sample\n",
      "Quantized (s: 1 e: 1 m: 7) alexnet Model evaluation accuracy: 0.109\n",
      "Quantized (s: 1 e: 1 m: 7) alexnet Model cuda:0 latency: 2.83 ms / sample\n",
      "Quantized (s: 1 e: 3 m: 7) alexnet Model evaluation accuracy: 0.104\n",
      "Quantized (s: 1 e: 3 m: 7) alexnet Model cuda:0 latency: 2.61 ms / sample\n",
      "Quantized (s: 1 e: 5 m: 7) alexnet Model evaluation accuracy: 0.849\n",
      "Quantized (s: 1 e: 5 m: 7) alexnet Model cuda:0 latency: 2.75 ms / sample\n",
      "Quantized (s: 1 e: 7 m: 7) alexnet Model evaluation accuracy: 0.849\n",
      "Quantized (s: 1 e: 7 m: 7) alexnet Model cuda:0 latency: 2.90 ms / sample\n",
      "Quantized (s: 1 e: 1 m: 9) alexnet Model evaluation accuracy: 0.108\n",
      "Quantized (s: 1 e: 1 m: 9) alexnet Model cuda:0 latency: 2.68 ms / sample\n",
      "Quantized (s: 1 e: 3 m: 9) alexnet Model evaluation accuracy: 0.104\n",
      "Quantized (s: 1 e: 3 m: 9) alexnet Model cuda:0 latency: 2.66 ms / sample\n",
      "Quantized (s: 1 e: 5 m: 9) alexnet Model evaluation accuracy: 0.849\n",
      "Quantized (s: 1 e: 5 m: 9) alexnet Model cuda:0 latency: 2.76 ms / sample\n",
      "Quantized (s: 1 e: 7 m: 9) alexnet Model evaluation accuracy: 0.849\n",
      "Quantized (s: 1 e: 7 m: 9) alexnet Model cuda:0 latency: 2.85 ms / sample\n",
      "Quantized (s: 1 e: 1 m: 11) alexnet Model evaluation accuracy: 0.108\n",
      "Quantized (s: 1 e: 1 m: 11) alexnet Model cuda:0 latency: 2.79 ms / sample\n",
      "Quantized (s: 1 e: 3 m: 11) alexnet Model evaluation accuracy: 0.104\n",
      "Quantized (s: 1 e: 3 m: 11) alexnet Model cuda:0 latency: 2.89 ms / sample\n",
      "Quantized (s: 1 e: 5 m: 11) alexnet Model evaluation accuracy: 0.849\n",
      "Quantized (s: 1 e: 5 m: 11) alexnet Model cuda:0 latency: 2.70 ms / sample\n",
      "Quantized (s: 1 e: 7 m: 11) alexnet Model evaluation accuracy: 0.849\n",
      "Quantized (s: 1 e: 7 m: 11) alexnet Model cuda:0 latency: 3.03 ms / sample\n",
      "Quantized (s: 1 e: 1 m: 13) alexnet Model evaluation accuracy: 0.108\n",
      "Quantized (s: 1 e: 1 m: 13) alexnet Model cuda:0 latency: 2.76 ms / sample\n",
      "Quantized (s: 1 e: 3 m: 13) alexnet Model evaluation accuracy: 0.104\n",
      "Quantized (s: 1 e: 3 m: 13) alexnet Model cuda:0 latency: 2.99 ms / sample\n",
      "Quantized (s: 1 e: 5 m: 13) alexnet Model evaluation accuracy: 0.849\n",
      "Quantized (s: 1 e: 5 m: 13) alexnet Model cuda:0 latency: 2.94 ms / sample\n",
      "Quantized (s: 1 e: 7 m: 13) alexnet Model evaluation accuracy: 0.849\n",
      "Quantized (s: 1 e: 7 m: 13) alexnet Model cuda:0 latency: 2.85 ms / sample\n",
      "Quantized (s: 1 e: 1 m: 15) alexnet Model evaluation accuracy: 0.108\n",
      "Quantized (s: 1 e: 1 m: 15) alexnet Model cuda:0 latency: 3.00 ms / sample\n",
      "Quantized (s: 1 e: 3 m: 15) alexnet Model evaluation accuracy: 0.104\n",
      "Quantized (s: 1 e: 3 m: 15) alexnet Model cuda:0 latency: 2.79 ms / sample\n",
      "Quantized (s: 1 e: 5 m: 15) alexnet Model evaluation accuracy: 0.849\n",
      "Quantized (s: 1 e: 5 m: 15) alexnet Model cuda:0 latency: 2.97 ms / sample\n",
      "Quantized (s: 1 e: 7 m: 15) alexnet Model evaluation accuracy: 0.849\n",
      "Quantized (s: 1 e: 7 m: 15) alexnet Model cuda:0 latency: 2.99 ms / sample\n",
      "Quantized (s: 1 e: 1 m: 17) alexnet Model evaluation accuracy: 0.108\n",
      "Quantized (s: 1 e: 1 m: 17) alexnet Model cuda:0 latency: 2.87 ms / sample\n",
      "Quantized (s: 1 e: 3 m: 17) alexnet Model evaluation accuracy: 0.104\n",
      "Quantized (s: 1 e: 3 m: 17) alexnet Model cuda:0 latency: 2.95 ms / sample\n",
      "Quantized (s: 1 e: 5 m: 17) alexnet Model evaluation accuracy: 0.849\n",
      "Quantized (s: 1 e: 5 m: 17) alexnet Model cuda:0 latency: 2.98 ms / sample\n",
      "Quantized (s: 1 e: 7 m: 17) alexnet Model evaluation accuracy: 0.849\n",
      "Quantized (s: 1 e: 7 m: 17) alexnet Model cuda:0 latency: 2.81 ms / sample\n",
      "Quantized (s: 1 e: 1 m: 19) alexnet Model evaluation accuracy: 0.108\n",
      "Quantized (s: 1 e: 1 m: 19) alexnet Model cuda:0 latency: 2.81 ms / sample\n",
      "Quantized (s: 1 e: 3 m: 19) alexnet Model evaluation accuracy: 0.104\n",
      "Quantized (s: 1 e: 3 m: 19) alexnet Model cuda:0 latency: 3.02 ms / sample\n",
      "Quantized (s: 1 e: 5 m: 19) alexnet Model evaluation accuracy: 0.849\n",
      "Quantized (s: 1 e: 5 m: 19) alexnet Model cuda:0 latency: 3.03 ms / sample\n",
      "Quantized (s: 1 e: 7 m: 19) alexnet Model evaluation accuracy: 0.849\n",
      "Quantized (s: 1 e: 7 m: 19) alexnet Model cuda:0 latency: 2.97 ms / sample\n",
      "Quantized (s: 1 e: 1 m: 21) alexnet Model evaluation accuracy: 0.108\n",
      "Quantized (s: 1 e: 1 m: 21) alexnet Model cuda:0 latency: 2.93 ms / sample\n",
      "Quantized (s: 1 e: 3 m: 21) alexnet Model evaluation accuracy: 0.104\n",
      "Quantized (s: 1 e: 3 m: 21) alexnet Model cuda:0 latency: 2.86 ms / sample\n",
      "Quantized (s: 1 e: 5 m: 21) alexnet Model evaluation accuracy: 0.849\n",
      "Quantized (s: 1 e: 5 m: 21) alexnet Model cuda:0 latency: 2.92 ms / sample\n",
      "Quantized (s: 1 e: 7 m: 21) alexnet Model evaluation accuracy: 0.849\n",
      "Quantized (s: 1 e: 7 m: 21) alexnet Model cuda:0 latency: 3.06 ms / sample\n",
      "Quantized (s: 1 e: 1 m: 23) alexnet Model evaluation accuracy: 0.108\n",
      "Quantized (s: 1 e: 1 m: 23) alexnet Model cuda:0 latency: 2.93 ms / sample\n",
      "Quantized (s: 1 e: 3 m: 23) alexnet Model evaluation accuracy: 0.104\n",
      "Quantized (s: 1 e: 3 m: 23) alexnet Model cuda:0 latency: 2.98 ms / sample\n",
      "Quantized (s: 1 e: 5 m: 23) alexnet Model evaluation accuracy: 0.849\n",
      "Quantized (s: 1 e: 5 m: 23) alexnet Model cuda:0 latency: 2.84 ms / sample\n",
      "Quantized (s: 1 e: 7 m: 23) alexnet Model evaluation accuracy: 0.849\n",
      "Quantized (s: 1 e: 7 m: 23) alexnet Model cuda:0 latency: 2.86 ms / sample\n"
     ]
    }
   ],
   "source": [
    "# For alexnet\n",
    "alexnet = torch.load(\"models/alexnet.pt\")\n",
    "quantized_model_dir = \"models/quantized_models/alexnets\"\n",
    "model_series_name = \"alexnet\"\n",
    "output_fname = \"alexnet_analysis.txt\"\n",
    "\n",
    "alexnet_acc, alexnet_latency, alexnet_qacc, alexnet_qlatency = run(cuda_device, alexnet, quantized_model_dir, model_series_name, test_loader, output_fname)"
   ]
  },
  {
   "cell_type": "code",
   "execution_count": 21,
   "metadata": {},
   "outputs": [],
   "source": [
    "f = open(\"alexnet_results.txt\", \"w\")\n",
    "f.write(str(alexnet_acc))\n",
    "f.write(\"\\n\")\n",
    "f.write(str(alexnet_latency))\n",
    "f.write(\"\\n\")\n",
    "f.write(str(alexnet_qacc))\n",
    "f.write(\"\\n\")\n",
    "f.write(str(alexnet_qlatency))\n",
    "f.write(\"\\n\")\n",
    "f.close()"
   ]
  },
  {
   "cell_type": "code",
   "execution_count": 74,
   "metadata": {},
   "outputs": [],
   "source": [
    "with open(\"alexnet_state.npy\", \"wb\") as f:\n",
    "    np.save(f, np.array(alexnet_acc))\n",
    "    np.save(f, np.array(alexnet_latency))\n",
    "    np.save(f, alexnet_qacc)\n",
    "    np.save(f, alexnet_qlatency)"
   ]
  },
  {
   "cell_type": "markdown",
   "metadata": {},
   "source": [
    "### 2. Resnet50"
   ]
  },
  {
   "cell_type": "code",
   "execution_count": 81,
   "metadata": {},
   "outputs": [
    {
     "name": "stdout",
     "output_type": "stream",
     "text": [
      "##################### resnet50 model #####################\n",
      "Unquantized (FP32) resnet50 Model evaluation accuracy: 0.791\n",
      "Unquantized (FP32) resnet50 Model cuda:0 latency: 7.81 ms / sample\n",
      "Quantized (s: 1 e: 1 m: 1) resnet50 Model evaluation accuracy: 0.100\n",
      "Quantized (s: 1 e: 1 m: 1) resnet50 Model cuda:0 latency: 8.91 ms / sample\n",
      "Quantized (s: 1 e: 3 m: 1) resnet50 Model evaluation accuracy: 0.100\n",
      "Quantized (s: 1 e: 3 m: 1) resnet50 Model cuda:0 latency: 10.15 ms / sample\n",
      "Quantized (s: 1 e: 5 m: 1) resnet50 Model evaluation accuracy: 0.121\n",
      "Quantized (s: 1 e: 5 m: 1) resnet50 Model cuda:0 latency: 12.46 ms / sample\n",
      "Quantized (s: 1 e: 7 m: 1) resnet50 Model evaluation accuracy: 0.121\n",
      "Quantized (s: 1 e: 7 m: 1) resnet50 Model cuda:0 latency: 12.72 ms / sample\n",
      "Quantized (s: 1 e: 1 m: 3) resnet50 Model evaluation accuracy: 0.100\n",
      "Quantized (s: 1 e: 1 m: 3) resnet50 Model cuda:0 latency: 20.07 ms / sample\n",
      "Quantized (s: 1 e: 3 m: 3) resnet50 Model evaluation accuracy: 0.100\n",
      "Quantized (s: 1 e: 3 m: 3) resnet50 Model cuda:0 latency: 12.22 ms / sample\n",
      "Quantized (s: 1 e: 5 m: 3) resnet50 Model evaluation accuracy: 0.465\n",
      "Quantized (s: 1 e: 5 m: 3) resnet50 Model cuda:0 latency: 27.97 ms / sample\n",
      "Quantized (s: 1 e: 7 m: 3) resnet50 Model evaluation accuracy: 0.465\n",
      "Quantized (s: 1 e: 7 m: 3) resnet50 Model cuda:0 latency: 13.36 ms / sample\n",
      "Quantized (s: 1 e: 1 m: 5) resnet50 Model evaluation accuracy: 0.100\n",
      "Quantized (s: 1 e: 1 m: 5) resnet50 Model cuda:0 latency: 14.45 ms / sample\n",
      "Quantized (s: 1 e: 3 m: 5) resnet50 Model evaluation accuracy: 0.067\n",
      "Quantized (s: 1 e: 3 m: 5) resnet50 Model cuda:0 latency: 16.15 ms / sample\n",
      "Quantized (s: 1 e: 5 m: 5) resnet50 Model evaluation accuracy: 0.786\n",
      "Quantized (s: 1 e: 5 m: 5) resnet50 Model cuda:0 latency: 14.30 ms / sample\n",
      "Quantized (s: 1 e: 7 m: 5) resnet50 Model evaluation accuracy: 0.786\n",
      "Quantized (s: 1 e: 7 m: 5) resnet50 Model cuda:0 latency: 14.42 ms / sample\n",
      "Quantized (s: 1 e: 1 m: 7) resnet50 Model evaluation accuracy: 0.100\n",
      "Quantized (s: 1 e: 1 m: 7) resnet50 Model cuda:0 latency: 15.20 ms / sample\n",
      "Quantized (s: 1 e: 3 m: 7) resnet50 Model evaluation accuracy: 0.072\n",
      "Quantized (s: 1 e: 3 m: 7) resnet50 Model cuda:0 latency: 14.31 ms / sample\n",
      "Quantized (s: 1 e: 5 m: 7) resnet50 Model evaluation accuracy: 0.788\n",
      "Quantized (s: 1 e: 5 m: 7) resnet50 Model cuda:0 latency: 14.02 ms / sample\n",
      "Quantized (s: 1 e: 7 m: 7) resnet50 Model evaluation accuracy: 0.788\n",
      "Quantized (s: 1 e: 7 m: 7) resnet50 Model cuda:0 latency: 12.91 ms / sample\n",
      "Quantized (s: 1 e: 1 m: 9) resnet50 Model evaluation accuracy: 0.100\n",
      "Quantized (s: 1 e: 1 m: 9) resnet50 Model cuda:0 latency: 14.66 ms / sample\n",
      "Quantized (s: 1 e: 3 m: 9) resnet50 Model evaluation accuracy: 0.073\n",
      "Quantized (s: 1 e: 3 m: 9) resnet50 Model cuda:0 latency: 14.26 ms / sample\n",
      "Quantized (s: 1 e: 5 m: 9) resnet50 Model evaluation accuracy: 0.791\n",
      "Quantized (s: 1 e: 5 m: 9) resnet50 Model cuda:0 latency: 15.93 ms / sample\n",
      "Quantized (s: 1 e: 7 m: 9) resnet50 Model evaluation accuracy: 0.791\n",
      "Quantized (s: 1 e: 7 m: 9) resnet50 Model cuda:0 latency: 13.71 ms / sample\n",
      "Quantized (s: 1 e: 1 m: 11) resnet50 Model evaluation accuracy: 0.100\n",
      "Quantized (s: 1 e: 1 m: 11) resnet50 Model cuda:0 latency: 13.50 ms / sample\n",
      "Quantized (s: 1 e: 3 m: 11) resnet50 Model evaluation accuracy: 0.074\n",
      "Quantized (s: 1 e: 3 m: 11) resnet50 Model cuda:0 latency: 15.02 ms / sample\n",
      "Quantized (s: 1 e: 5 m: 11) resnet50 Model evaluation accuracy: 0.791\n",
      "Quantized (s: 1 e: 5 m: 11) resnet50 Model cuda:0 latency: 17.23 ms / sample\n",
      "Quantized (s: 1 e: 7 m: 11) resnet50 Model evaluation accuracy: 0.791\n",
      "Quantized (s: 1 e: 7 m: 11) resnet50 Model cuda:0 latency: 17.29 ms / sample\n",
      "Quantized (s: 1 e: 1 m: 13) resnet50 Model evaluation accuracy: 0.100\n",
      "Quantized (s: 1 e: 1 m: 13) resnet50 Model cuda:0 latency: 15.90 ms / sample\n",
      "Quantized (s: 1 e: 3 m: 13) resnet50 Model evaluation accuracy: 0.074\n",
      "Quantized (s: 1 e: 3 m: 13) resnet50 Model cuda:0 latency: 16.66 ms / sample\n",
      "Quantized (s: 1 e: 5 m: 13) resnet50 Model evaluation accuracy: 0.791\n",
      "Quantized (s: 1 e: 5 m: 13) resnet50 Model cuda:0 latency: 17.01 ms / sample\n",
      "Quantized (s: 1 e: 7 m: 13) resnet50 Model evaluation accuracy: 0.791\n",
      "Quantized (s: 1 e: 7 m: 13) resnet50 Model cuda:0 latency: 17.02 ms / sample\n",
      "Quantized (s: 1 e: 1 m: 15) resnet50 Model evaluation accuracy: 0.100\n",
      "Quantized (s: 1 e: 1 m: 15) resnet50 Model cuda:0 latency: 16.50 ms / sample\n",
      "Quantized (s: 1 e: 3 m: 15) resnet50 Model evaluation accuracy: 0.074\n",
      "Quantized (s: 1 e: 3 m: 15) resnet50 Model cuda:0 latency: 15.87 ms / sample\n",
      "Quantized (s: 1 e: 5 m: 15) resnet50 Model evaluation accuracy: 0.791\n",
      "Quantized (s: 1 e: 5 m: 15) resnet50 Model cuda:0 latency: 16.77 ms / sample\n",
      "Quantized (s: 1 e: 7 m: 15) resnet50 Model evaluation accuracy: 0.791\n",
      "Quantized (s: 1 e: 7 m: 15) resnet50 Model cuda:0 latency: 17.62 ms / sample\n",
      "Quantized (s: 1 e: 1 m: 17) resnet50 Model evaluation accuracy: 0.100\n",
      "Quantized (s: 1 e: 1 m: 17) resnet50 Model cuda:0 latency: 14.75 ms / sample\n",
      "Quantized (s: 1 e: 3 m: 17) resnet50 Model evaluation accuracy: 0.074\n",
      "Quantized (s: 1 e: 3 m: 17) resnet50 Model cuda:0 latency: 15.84 ms / sample\n",
      "Quantized (s: 1 e: 5 m: 17) resnet50 Model evaluation accuracy: 0.791\n",
      "Quantized (s: 1 e: 5 m: 17) resnet50 Model cuda:0 latency: 16.55 ms / sample\n",
      "Quantized (s: 1 e: 7 m: 17) resnet50 Model evaluation accuracy: 0.791\n",
      "Quantized (s: 1 e: 7 m: 17) resnet50 Model cuda:0 latency: 18.26 ms / sample\n",
      "Quantized (s: 1 e: 1 m: 19) resnet50 Model evaluation accuracy: 0.100\n",
      "Quantized (s: 1 e: 1 m: 19) resnet50 Model cuda:0 latency: 17.58 ms / sample\n",
      "Quantized (s: 1 e: 3 m: 19) resnet50 Model evaluation accuracy: 0.074\n",
      "Quantized (s: 1 e: 3 m: 19) resnet50 Model cuda:0 latency: 18.41 ms / sample\n",
      "Quantized (s: 1 e: 5 m: 19) resnet50 Model evaluation accuracy: 0.791\n",
      "Quantized (s: 1 e: 5 m: 19) resnet50 Model cuda:0 latency: 17.41 ms / sample\n",
      "Quantized (s: 1 e: 7 m: 19) resnet50 Model evaluation accuracy: 0.791\n",
      "Quantized (s: 1 e: 7 m: 19) resnet50 Model cuda:0 latency: 19.79 ms / sample\n",
      "Quantized (s: 1 e: 1 m: 21) resnet50 Model evaluation accuracy: 0.100\n",
      "Quantized (s: 1 e: 1 m: 21) resnet50 Model cuda:0 latency: 17.47 ms / sample\n",
      "Quantized (s: 1 e: 3 m: 21) resnet50 Model evaluation accuracy: 0.074\n",
      "Quantized (s: 1 e: 3 m: 21) resnet50 Model cuda:0 latency: 19.02 ms / sample\n",
      "Quantized (s: 1 e: 5 m: 21) resnet50 Model evaluation accuracy: 0.791\n",
      "Quantized (s: 1 e: 5 m: 21) resnet50 Model cuda:0 latency: 15.80 ms / sample\n",
      "Quantized (s: 1 e: 7 m: 21) resnet50 Model evaluation accuracy: 0.791\n",
      "Quantized (s: 1 e: 7 m: 21) resnet50 Model cuda:0 latency: 14.49 ms / sample\n",
      "Quantized (s: 1 e: 1 m: 23) resnet50 Model evaluation accuracy: 0.100\n",
      "Quantized (s: 1 e: 1 m: 23) resnet50 Model cuda:0 latency: 16.62 ms / sample\n",
      "Quantized (s: 1 e: 3 m: 23) resnet50 Model evaluation accuracy: 0.074\n",
      "Quantized (s: 1 e: 3 m: 23) resnet50 Model cuda:0 latency: 16.25 ms / sample\n",
      "Quantized (s: 1 e: 5 m: 23) resnet50 Model evaluation accuracy: 0.791\n",
      "Quantized (s: 1 e: 5 m: 23) resnet50 Model cuda:0 latency: 18.37 ms / sample\n",
      "Quantized (s: 1 e: 7 m: 23) resnet50 Model evaluation accuracy: 0.791\n",
      "Quantized (s: 1 e: 7 m: 23) resnet50 Model cuda:0 latency: 15.48 ms / sample\n"
     ]
    }
   ],
   "source": [
    "# For resnet\n",
    "resnet50 = torch.load(\"models/resnet50.pt\")\n",
    "quantized_model_dir = \"models/quantized_models/resnets\"\n",
    "model_series_name = \"resnet50\"\n",
    "output_fname = \"resnet50_analysis.txt\"\n",
    "resnet50_acc, resnet50_latency, resnet50_qacc, resnet50_qlatency = run(cuda_device, resnet50, quantized_model_dir, model_series_name, test_loader, output_fname)"
   ]
  },
  {
   "cell_type": "code",
   "execution_count": 82,
   "metadata": {},
   "outputs": [],
   "source": [
    "f = open(\"resnet50_results.txt\", \"w\")\n",
    "f.write(str(resnet50_acc))\n",
    "f.write(\"\\n\")\n",
    "f.write(str(resnet50_latency))\n",
    "f.write(\"\\n\")\n",
    "f.write(str(resnet50_qacc))\n",
    "f.write(\"\\n\")\n",
    "f.write(str(resnet50_qlatency))\n",
    "f.write(\"\\n\")\n",
    "f.close()"
   ]
  },
  {
   "cell_type": "code",
   "execution_count": 83,
   "metadata": {},
   "outputs": [],
   "source": [
    "with open(\"resnet50_state.npy\", \"wb\") as f:\n",
    "    np.save(f, np.array(resnet50_acc))\n",
    "    np.save(f, np.array(resnet50_latency))\n",
    "    np.save(f, resnet50_qacc)\n",
    "    np.save(f, resnet50_qlatency)"
   ]
  },
  {
   "cell_type": "markdown",
   "metadata": {},
   "source": [
    "### 3. VGG19"
   ]
  },
  {
   "cell_type": "code",
   "execution_count": null,
   "metadata": {},
   "outputs": [],
   "source": [
    "# For vgg19\n",
    "vgg19 = torch.load(\"models/vgg19.pt\")\n",
    "quantized_model_dir = \"models/quantized_models/vgg19s\"\n",
    "model_series_name = \"vgg19\"\n",
    "output_fname = \"vgg19_analysis.txt\"\n",
    "vgg19_acc, vgg19_latency, vgg19_qacc, vgg19_qlatency = run(cpu_device, vgg19, quantized_model_dir, model_series_name, test_loader, output_fname)"
   ]
  },
  {
   "cell_type": "code",
   "execution_count": null,
   "metadata": {},
   "outputs": [],
   "source": [
    "f = open(\"vgg19_results.txt\", \"w\")\n",
    "f.write(str(vgg19_acc))\n",
    "f.write(\"\\n\")\n",
    "f.write(str(vgg19_latency))\n",
    "f.write(\"\\n\")\n",
    "f.write(str(vgg19_qacc))\n",
    "f.write(\"\\n\")\n",
    "f.write(str(vgg19_qlatency))\n",
    "f.write(\"\\n\")\n",
    "f.close()"
   ]
  },
  {
   "cell_type": "markdown",
   "metadata": {},
   "source": [
    "## Helper Functions for Language Models"
   ]
  },
  {
   "cell_type": "code",
   "execution_count": 34,
   "metadata": {},
   "outputs": [],
   "source": [
    "def eval_language_model(model, model_name, device, encodings, stride = 512):\n",
    "\n",
    "    model.to(device)\n",
    "\n",
    "    if 'gpt2' in model_name: \n",
    "        max_length = model.config.n_positions\n",
    "    else:\n",
    "        max_length = 512\n",
    "    seq_len = encodings.input_ids.size(1)\n",
    "\n",
    "    nlls = []\n",
    "    prev_end_loc = 0\n",
    "    for begin_loc in tqdm(range(0, seq_len, stride)):\n",
    "        end_loc = min(begin_loc + max_length, seq_len)\n",
    "        trg_len = end_loc - prev_end_loc  # may be different from stride on last loop\n",
    "        input_ids = encodings.input_ids[:, begin_loc:end_loc].to(device)\n",
    "        target_ids = input_ids.clone()\n",
    "        target_ids[:, :-trg_len] = -100\n",
    "\n",
    "        with torch.no_grad():\n",
    "            outputs = model(input_ids, labels=target_ids)\n",
    "\n",
    "            # loss is calculated using CrossEntropyLoss which averages over input tokens.\n",
    "            # Multiply it with trg_len to get the summation instead of average.\n",
    "            # We will take average over all the tokens to get the true average\n",
    "            # in the last step of this example.\n",
    "            neg_log_likelihood = outputs.loss * trg_len\n",
    "\n",
    "        nlls.append(neg_log_likelihood)\n",
    "\n",
    "        prev_end_loc = end_loc\n",
    "        if end_loc == seq_len:\n",
    "            break\n",
    "    ppl = torch.exp(torch.stack(nlls).sum() / end_loc)\n",
    "\n",
    "    return ppl.data.detach().cpu().numpy()"
   ]
  },
  {
   "cell_type": "code",
   "execution_count": 35,
   "metadata": {},
   "outputs": [],
   "source": [
    "def run_language_model(device, model, quantized_model_dir, model_series_name, encodings, output_fname):\n",
    "    f = open(output_fname, \"w\")\n",
    "\n",
    "    print(f\"##################### {model_series_name} model #####################\")\n",
    "    f.write(f\"##################### {model_series_name} model #####################\\n\")\n",
    "    # Accuracy\n",
    "    ppl = eval_language_model(model, model_series_name, device, encodings)\n",
    "    print(\"Unquantized (FP32) {} Model perplexity: {:.3f}\".format(model_series_name, ppl))\n",
    "    f.write(\"Unquantized (FP32) {} Model perplexity: {:.3f}\\n\".format(model_series_name, ppl))\n",
    "\n",
    "    man_bits = np.arange(1, 24, 2)\n",
    "    exp_bits = np.arange(1, 9, 2)\n",
    "\n",
    "    qppl = np.zeros((len(man_bits), len(exp_bits)))\n",
    "\n",
    "    for i,m_bits in enumerate(man_bits):\n",
    "        for j,e_bits in enumerate(exp_bits):\n",
    "            model_path = quantized_model_dir + f\"/{model_series_name}_1_{e_bits}_{m_bits}.pt\"\n",
    "            qmodel = torch.load(model_path)\n",
    "            qppl[i][j] = eval_language_model(qmodel, model_series_name, device, encodings)\n",
    "            print(\"Quantized (s: 1 e: {} m: {}) {} Model perplexity: {:.3f}\".format(e_bits, m_bits, model_series_name, qppl[i][j]))\n",
    "            f.write(\"Quantized (s: 1 e: {} m: {}) {} Model perplexity: {:.3f}\\n\".format(e_bits, m_bits, model_series_name, qppl[i][j]))\n",
    "            \n",
    "    f.close()\n",
    "\n",
    "    return ppl, qppl"
   ]
  },
  {
   "cell_type": "markdown",
   "metadata": {},
   "source": [
    "### 1. GPT 2 model"
   ]
  },
  {
   "cell_type": "code",
   "execution_count": 41,
   "metadata": {},
   "outputs": [],
   "source": [
    "model_id = \"gpt2\"\n",
    "gpt2 = GPT2LMHeadModel.from_pretrained(model_id).to(device)"
   ]
  },
  {
   "cell_type": "code",
   "execution_count": 42,
   "metadata": {},
   "outputs": [],
   "source": [
    "torch.save(gpt2, \"models/gpt2.pt\")"
   ]
  },
  {
   "cell_type": "code",
   "execution_count": 25,
   "metadata": {},
   "outputs": [],
   "source": [
    "man_bits = np.arange(1, 24, 2)\n",
    "exp_bits = np.arange(1, 9, 2)\n",
    "\n",
    "for m_bits in man_bits:\n",
    "    for e_bits in exp_bits:\n",
    "        model = copy.deepcopy(gpt2)\n",
    "        model.to(cpu_device)\n",
    "        model.train()\n",
    "        floatinfo = CustomFloat(True, e_bits, m_bits)\n",
    "        quantizemodel(model, floatinfo)\n",
    "        torch.save(model, \"models/quantized_models/gpt2/gpt2_1_{}_{}.pt\".format(e_bits, m_bits))"
   ]
  },
  {
   "cell_type": "code",
   "execution_count": 43,
   "metadata": {},
   "outputs": [],
   "source": [
    "tokenizer = GPT2TokenizerFast.from_pretrained(model_id)"
   ]
  },
  {
   "cell_type": "code",
   "execution_count": 44,
   "metadata": {},
   "outputs": [
    {
     "name": "stderr",
     "output_type": "stream",
     "text": [
      "Found cached dataset wikitext (C:/Users/Madhan/.cache/huggingface/datasets/wikitext/wikitext-2-raw-v1/1.0.0/a241db52902eaf2c6aa732210bead40c090019a499ceb13bcbfa3f8ab646a126)\n",
      "Token indices sequence length is longer than the specified maximum sequence length for this model (287644 > 1024). Running this sequence through the model will result in indexing errors\n"
     ]
    }
   ],
   "source": [
    "test = load_dataset(\"wikitext\", \"wikitext-2-raw-v1\", split=\"test\")\n",
    "encodings = tokenizer(\"\\n\\n\".join(test[\"text\"]), return_tensors=\"pt\")"
   ]
  },
  {
   "cell_type": "code",
   "execution_count": 45,
   "metadata": {},
   "outputs": [
    {
     "name": "stdout",
     "output_type": "stream",
     "text": [
      "##################### gpt2 model #####################\n"
     ]
    },
    {
     "name": "stderr",
     "output_type": "stream",
     "text": [
      "100%|█████████▉| 560/562 [01:36<00:00,  5.78it/s]\n"
     ]
    },
    {
     "name": "stdout",
     "output_type": "stream",
     "text": [
      "Unquantized (FP32) gpt2 Model perplexity: 25.170\n"
     ]
    },
    {
     "name": "stderr",
     "output_type": "stream",
     "text": [
      "100%|█████████▉| 560/562 [02:07<00:00,  4.38it/s]\n"
     ]
    },
    {
     "name": "stdout",
     "output_type": "stream",
     "text": [
      "Quantized (s: 1 e: 1 m: 1) gpt2 Model perplexity: inf\n"
     ]
    },
    {
     "name": "stderr",
     "output_type": "stream",
     "text": [
      "100%|█████████▉| 560/562 [02:40<00:00,  3.48it/s]\n"
     ]
    },
    {
     "name": "stdout",
     "output_type": "stream",
     "text": [
      "Quantized (s: 1 e: 3 m: 1) gpt2 Model perplexity: 21267248.000\n"
     ]
    },
    {
     "name": "stderr",
     "output_type": "stream",
     "text": [
      "100%|█████████▉| 560/562 [03:10<00:00,  2.94it/s]\n"
     ]
    },
    {
     "name": "stdout",
     "output_type": "stream",
     "text": [
      "Quantized (s: 1 e: 5 m: 1) gpt2 Model perplexity: 611.648\n"
     ]
    },
    {
     "name": "stderr",
     "output_type": "stream",
     "text": [
      "100%|█████████▉| 560/562 [03:27<00:00,  2.70it/s]\n"
     ]
    },
    {
     "name": "stdout",
     "output_type": "stream",
     "text": [
      "Quantized (s: 1 e: 7 m: 1) gpt2 Model perplexity: 611.878\n"
     ]
    },
    {
     "name": "stderr",
     "output_type": "stream",
     "text": [
      "100%|█████████▉| 560/562 [03:27<00:00,  2.70it/s]\n"
     ]
    },
    {
     "name": "stdout",
     "output_type": "stream",
     "text": [
      "Quantized (s: 1 e: 1 m: 3) gpt2 Model perplexity: inf\n"
     ]
    },
    {
     "name": "stderr",
     "output_type": "stream",
     "text": [
      "100%|█████████▉| 560/562 [03:41<00:00,  2.52it/s]\n"
     ]
    },
    {
     "name": "stdout",
     "output_type": "stream",
     "text": [
      "Quantized (s: 1 e: 3 m: 3) gpt2 Model perplexity: 1187011712.000\n"
     ]
    },
    {
     "name": "stderr",
     "output_type": "stream",
     "text": [
      "100%|█████████▉| 560/562 [03:52<00:00,  2.41it/s]\n"
     ]
    },
    {
     "name": "stdout",
     "output_type": "stream",
     "text": [
      "Quantized (s: 1 e: 5 m: 3) gpt2 Model perplexity: 38.518\n"
     ]
    },
    {
     "name": "stderr",
     "output_type": "stream",
     "text": [
      "100%|█████████▉| 560/562 [03:54<00:00,  2.39it/s]\n"
     ]
    },
    {
     "name": "stdout",
     "output_type": "stream",
     "text": [
      "Quantized (s: 1 e: 7 m: 3) gpt2 Model perplexity: 38.530\n"
     ]
    },
    {
     "name": "stderr",
     "output_type": "stream",
     "text": [
      "100%|█████████▉| 560/562 [03:44<00:00,  2.49it/s]\n"
     ]
    },
    {
     "name": "stdout",
     "output_type": "stream",
     "text": [
      "Quantized (s: 1 e: 1 m: 5) gpt2 Model perplexity: inf\n"
     ]
    },
    {
     "name": "stderr",
     "output_type": "stream",
     "text": [
      "100%|█████████▉| 560/562 [04:05<00:00,  2.28it/s]\n"
     ]
    },
    {
     "name": "stdout",
     "output_type": "stream",
     "text": [
      "Quantized (s: 1 e: 3 m: 5) gpt2 Model perplexity: 4621426176.000\n"
     ]
    },
    {
     "name": "stderr",
     "output_type": "stream",
     "text": [
      "100%|█████████▉| 560/562 [03:58<00:00,  2.34it/s]\n"
     ]
    },
    {
     "name": "stdout",
     "output_type": "stream",
     "text": [
      "Quantized (s: 1 e: 5 m: 5) gpt2 Model perplexity: 32.900\n"
     ]
    },
    {
     "name": "stderr",
     "output_type": "stream",
     "text": [
      "100%|█████████▉| 560/562 [03:51<00:00,  2.42it/s]\n"
     ]
    },
    {
     "name": "stdout",
     "output_type": "stream",
     "text": [
      "Quantized (s: 1 e: 7 m: 5) gpt2 Model perplexity: 32.965\n"
     ]
    },
    {
     "name": "stderr",
     "output_type": "stream",
     "text": [
      "100%|█████████▉| 560/562 [03:50<00:00,  2.43it/s]\n"
     ]
    },
    {
     "name": "stdout",
     "output_type": "stream",
     "text": [
      "Quantized (s: 1 e: 1 m: 7) gpt2 Model perplexity: inf\n"
     ]
    },
    {
     "name": "stderr",
     "output_type": "stream",
     "text": [
      "100%|█████████▉| 560/562 [03:51<00:00,  2.42it/s]\n"
     ]
    },
    {
     "name": "stdout",
     "output_type": "stream",
     "text": [
      "Quantized (s: 1 e: 3 m: 7) gpt2 Model perplexity: 7030213120.000\n"
     ]
    },
    {
     "name": "stderr",
     "output_type": "stream",
     "text": [
      "100%|█████████▉| 560/562 [04:02<00:00,  2.31it/s]\n"
     ]
    },
    {
     "name": "stdout",
     "output_type": "stream",
     "text": [
      "Quantized (s: 1 e: 5 m: 7) gpt2 Model perplexity: 33.141\n"
     ]
    },
    {
     "name": "stderr",
     "output_type": "stream",
     "text": [
      "100%|█████████▉| 560/562 [04:29<00:00,  2.08it/s]\n"
     ]
    },
    {
     "name": "stdout",
     "output_type": "stream",
     "text": [
      "Quantized (s: 1 e: 7 m: 7) gpt2 Model perplexity: 33.036\n"
     ]
    },
    {
     "name": "stderr",
     "output_type": "stream",
     "text": [
      "100%|█████████▉| 560/562 [04:22<00:00,  2.13it/s]\n"
     ]
    },
    {
     "name": "stdout",
     "output_type": "stream",
     "text": [
      "Quantized (s: 1 e: 1 m: 9) gpt2 Model perplexity: inf\n"
     ]
    },
    {
     "name": "stderr",
     "output_type": "stream",
     "text": [
      "100%|█████████▉| 560/562 [04:25<00:00,  2.11it/s]\n"
     ]
    },
    {
     "name": "stdout",
     "output_type": "stream",
     "text": [
      "Quantized (s: 1 e: 3 m: 9) gpt2 Model perplexity: 7429975552.000\n"
     ]
    },
    {
     "name": "stderr",
     "output_type": "stream",
     "text": [
      "100%|█████████▉| 560/562 [04:11<00:00,  2.22it/s]\n"
     ]
    },
    {
     "name": "stdout",
     "output_type": "stream",
     "text": [
      "Quantized (s: 1 e: 5 m: 9) gpt2 Model perplexity: 33.090\n"
     ]
    },
    {
     "name": "stderr",
     "output_type": "stream",
     "text": [
      "100%|█████████▉| 560/562 [04:07<00:00,  2.26it/s]\n"
     ]
    },
    {
     "name": "stdout",
     "output_type": "stream",
     "text": [
      "Quantized (s: 1 e: 7 m: 9) gpt2 Model perplexity: 33.107\n"
     ]
    },
    {
     "name": "stderr",
     "output_type": "stream",
     "text": [
      "100%|█████████▉| 560/562 [03:58<00:00,  2.35it/s]\n"
     ]
    },
    {
     "name": "stdout",
     "output_type": "stream",
     "text": [
      "Quantized (s: 1 e: 1 m: 11) gpt2 Model perplexity: inf\n"
     ]
    },
    {
     "name": "stderr",
     "output_type": "stream",
     "text": [
      "100%|█████████▉| 560/562 [03:58<00:00,  2.35it/s]\n"
     ]
    },
    {
     "name": "stdout",
     "output_type": "stream",
     "text": [
      "Quantized (s: 1 e: 3 m: 11) gpt2 Model perplexity: 7673303552.000\n"
     ]
    },
    {
     "name": "stderr",
     "output_type": "stream",
     "text": [
      "100%|█████████▉| 560/562 [03:53<00:00,  2.40it/s]\n"
     ]
    },
    {
     "name": "stdout",
     "output_type": "stream",
     "text": [
      "Quantized (s: 1 e: 5 m: 11) gpt2 Model perplexity: 33.217\n"
     ]
    },
    {
     "name": "stderr",
     "output_type": "stream",
     "text": [
      "100%|█████████▉| 560/562 [03:56<00:00,  2.37it/s]\n"
     ]
    },
    {
     "name": "stdout",
     "output_type": "stream",
     "text": [
      "Quantized (s: 1 e: 7 m: 11) gpt2 Model perplexity: 33.238\n"
     ]
    },
    {
     "name": "stderr",
     "output_type": "stream",
     "text": [
      "100%|█████████▉| 560/562 [03:46<00:00,  2.47it/s]\n"
     ]
    },
    {
     "name": "stdout",
     "output_type": "stream",
     "text": [
      "Quantized (s: 1 e: 1 m: 13) gpt2 Model perplexity: inf\n"
     ]
    },
    {
     "name": "stderr",
     "output_type": "stream",
     "text": [
      "100%|█████████▉| 560/562 [03:56<00:00,  2.36it/s]\n"
     ]
    },
    {
     "name": "stdout",
     "output_type": "stream",
     "text": [
      "Quantized (s: 1 e: 3 m: 13) gpt2 Model perplexity: 7789413888.000\n"
     ]
    },
    {
     "name": "stderr",
     "output_type": "stream",
     "text": [
      "100%|█████████▉| 560/562 [03:46<00:00,  2.48it/s]\n"
     ]
    },
    {
     "name": "stdout",
     "output_type": "stream",
     "text": [
      "Quantized (s: 1 e: 5 m: 13) gpt2 Model perplexity: 33.388\n"
     ]
    },
    {
     "name": "stderr",
     "output_type": "stream",
     "text": [
      "100%|█████████▉| 560/562 [03:45<00:00,  2.48it/s]\n"
     ]
    },
    {
     "name": "stdout",
     "output_type": "stream",
     "text": [
      "Quantized (s: 1 e: 7 m: 13) gpt2 Model perplexity: 33.284\n"
     ]
    },
    {
     "name": "stderr",
     "output_type": "stream",
     "text": [
      "100%|█████████▉| 560/562 [03:52<00:00,  2.41it/s]\n"
     ]
    },
    {
     "name": "stdout",
     "output_type": "stream",
     "text": [
      "Quantized (s: 1 e: 1 m: 15) gpt2 Model perplexity: inf\n"
     ]
    },
    {
     "name": "stderr",
     "output_type": "stream",
     "text": [
      "100%|█████████▉| 560/562 [04:10<00:00,  2.24it/s]\n"
     ]
    },
    {
     "name": "stdout",
     "output_type": "stream",
     "text": [
      "Quantized (s: 1 e: 3 m: 15) gpt2 Model perplexity: 7664614400.000\n"
     ]
    },
    {
     "name": "stderr",
     "output_type": "stream",
     "text": [
      "100%|█████████▉| 560/562 [04:10<00:00,  2.24it/s]\n"
     ]
    },
    {
     "name": "stdout",
     "output_type": "stream",
     "text": [
      "Quantized (s: 1 e: 5 m: 15) gpt2 Model perplexity: 33.222\n"
     ]
    },
    {
     "name": "stderr",
     "output_type": "stream",
     "text": [
      "100%|█████████▉| 560/562 [04:07<00:00,  2.26it/s]\n"
     ]
    },
    {
     "name": "stdout",
     "output_type": "stream",
     "text": [
      "Quantized (s: 1 e: 7 m: 15) gpt2 Model perplexity: 33.229\n"
     ]
    },
    {
     "name": "stderr",
     "output_type": "stream",
     "text": [
      "100%|█████████▉| 560/562 [03:59<00:00,  2.34it/s]\n"
     ]
    },
    {
     "name": "stdout",
     "output_type": "stream",
     "text": [
      "Quantized (s: 1 e: 1 m: 17) gpt2 Model perplexity: inf\n"
     ]
    },
    {
     "name": "stderr",
     "output_type": "stream",
     "text": [
      "100%|█████████▉| 560/562 [03:57<00:00,  2.35it/s]\n"
     ]
    },
    {
     "name": "stdout",
     "output_type": "stream",
     "text": [
      "Quantized (s: 1 e: 3 m: 17) gpt2 Model perplexity: 7783606784.000\n"
     ]
    },
    {
     "name": "stderr",
     "output_type": "stream",
     "text": [
      "100%|█████████▉| 560/562 [03:53<00:00,  2.40it/s]\n"
     ]
    },
    {
     "name": "stdout",
     "output_type": "stream",
     "text": [
      "Quantized (s: 1 e: 5 m: 17) gpt2 Model perplexity: 33.295\n"
     ]
    },
    {
     "name": "stderr",
     "output_type": "stream",
     "text": [
      "100%|█████████▉| 560/562 [03:24<00:00,  2.74it/s]\n"
     ]
    },
    {
     "name": "stdout",
     "output_type": "stream",
     "text": [
      "Quantized (s: 1 e: 7 m: 17) gpt2 Model perplexity: 33.342\n"
     ]
    },
    {
     "name": "stderr",
     "output_type": "stream",
     "text": [
      "100%|█████████▉| 560/562 [03:24<00:00,  2.73it/s]\n"
     ]
    },
    {
     "name": "stdout",
     "output_type": "stream",
     "text": [
      "Quantized (s: 1 e: 1 m: 19) gpt2 Model perplexity: inf\n"
     ]
    },
    {
     "name": "stderr",
     "output_type": "stream",
     "text": [
      "100%|█████████▉| 560/562 [03:22<00:00,  2.76it/s]\n"
     ]
    },
    {
     "name": "stdout",
     "output_type": "stream",
     "text": [
      "Quantized (s: 1 e: 3 m: 19) gpt2 Model perplexity: 7909001216.000\n"
     ]
    },
    {
     "name": "stderr",
     "output_type": "stream",
     "text": [
      "100%|█████████▉| 560/562 [03:23<00:00,  2.76it/s]\n"
     ]
    },
    {
     "name": "stdout",
     "output_type": "stream",
     "text": [
      "Quantized (s: 1 e: 5 m: 19) gpt2 Model perplexity: 33.220\n"
     ]
    },
    {
     "name": "stderr",
     "output_type": "stream",
     "text": [
      "100%|█████████▉| 560/562 [03:25<00:00,  2.73it/s]\n"
     ]
    },
    {
     "name": "stdout",
     "output_type": "stream",
     "text": [
      "Quantized (s: 1 e: 7 m: 19) gpt2 Model perplexity: 33.275\n"
     ]
    },
    {
     "name": "stderr",
     "output_type": "stream",
     "text": [
      "100%|█████████▉| 560/562 [03:17<00:00,  2.83it/s]\n"
     ]
    },
    {
     "name": "stdout",
     "output_type": "stream",
     "text": [
      "Quantized (s: 1 e: 1 m: 21) gpt2 Model perplexity: inf\n"
     ]
    },
    {
     "name": "stderr",
     "output_type": "stream",
     "text": [
      "100%|█████████▉| 560/562 [03:29<00:00,  2.67it/s]\n"
     ]
    },
    {
     "name": "stdout",
     "output_type": "stream",
     "text": [
      "Quantized (s: 1 e: 3 m: 21) gpt2 Model perplexity: 7420457984.000\n"
     ]
    },
    {
     "name": "stderr",
     "output_type": "stream",
     "text": [
      "100%|█████████▉| 560/562 [03:23<00:00,  2.75it/s]\n"
     ]
    },
    {
     "name": "stdout",
     "output_type": "stream",
     "text": [
      "Quantized (s: 1 e: 5 m: 21) gpt2 Model perplexity: 33.310\n"
     ]
    },
    {
     "name": "stderr",
     "output_type": "stream",
     "text": [
      "100%|█████████▉| 560/562 [03:24<00:00,  2.73it/s]\n"
     ]
    },
    {
     "name": "stdout",
     "output_type": "stream",
     "text": [
      "Quantized (s: 1 e: 7 m: 21) gpt2 Model perplexity: 33.306\n"
     ]
    },
    {
     "name": "stderr",
     "output_type": "stream",
     "text": [
      "100%|█████████▉| 560/562 [03:13<00:00,  2.89it/s]\n"
     ]
    },
    {
     "name": "stdout",
     "output_type": "stream",
     "text": [
      "Quantized (s: 1 e: 1 m: 23) gpt2 Model perplexity: inf\n"
     ]
    },
    {
     "name": "stderr",
     "output_type": "stream",
     "text": [
      "100%|█████████▉| 560/562 [03:21<00:00,  2.78it/s]\n"
     ]
    },
    {
     "name": "stdout",
     "output_type": "stream",
     "text": [
      "Quantized (s: 1 e: 3 m: 23) gpt2 Model perplexity: 7866680320.000\n"
     ]
    },
    {
     "name": "stderr",
     "output_type": "stream",
     "text": [
      "100%|█████████▉| 560/562 [03:30<00:00,  2.66it/s]\n"
     ]
    },
    {
     "name": "stdout",
     "output_type": "stream",
     "text": [
      "Quantized (s: 1 e: 5 m: 23) gpt2 Model perplexity: 33.321\n"
     ]
    },
    {
     "name": "stderr",
     "output_type": "stream",
     "text": [
      "100%|█████████▉| 560/562 [03:26<00:00,  2.71it/s]"
     ]
    },
    {
     "name": "stdout",
     "output_type": "stream",
     "text": [
      "Quantized (s: 1 e: 7 m: 23) gpt2 Model perplexity: 33.328\n"
     ]
    },
    {
     "name": "stderr",
     "output_type": "stream",
     "text": [
      "\n"
     ]
    }
   ],
   "source": [
    "# For gpt2\n",
    "gpt2 = torch.load(\"models/gpt2.pt\")\n",
    "quantized_model_dir = \"models/quantized_models/gpt2\"\n",
    "model_series_name = \"gpt2\"\n",
    "output_fname = \"gpt2_analysis.txt\"\n",
    "gpt2_ppl, gpt2_qppl = run_language_model(cuda_device, gpt2, quantized_model_dir, model_series_name, encodings, output_fname)"
   ]
  },
  {
   "cell_type": "code",
   "execution_count": 46,
   "metadata": {},
   "outputs": [],
   "source": [
    "f = open(\"gpt2_results.txt\", \"w\")\n",
    "f.write(str(gpt2_ppl))\n",
    "f.write(\"\\n\")\n",
    "f.write(str(gpt2_qppl))\n",
    "f.write(\"\\n\")\n",
    "f.close()"
   ]
  },
  {
   "cell_type": "code",
   "execution_count": 77,
   "metadata": {},
   "outputs": [],
   "source": [
    "with open(\"gpt2_state.npy\", \"wb\") as f:\n",
    "    np.save(f, np.array(gpt2_ppl.data.detach().cpu().numpy()))\n",
    "    np.save(f, gpt2_qppl)\n"
   ]
  },
  {
   "cell_type": "markdown",
   "metadata": {},
   "source": [
    "### 2. BERT Model"
   ]
  },
  {
   "cell_type": "code",
   "execution_count": 30,
   "metadata": {},
   "outputs": [
    {
     "name": "stderr",
     "output_type": "stream",
     "text": [
      "Some weights of the model checkpoint at bert-large-cased were not used when initializing BertForMaskedLM: ['cls.seq_relationship.weight', 'cls.seq_relationship.bias']\n",
      "- This IS expected if you are initializing BertForMaskedLM from the checkpoint of a model trained on another task or with another architecture (e.g. initializing a BertForSequenceClassification model from a BertForPreTraining model).\n",
      "- This IS NOT expected if you are initializing BertForMaskedLM from the checkpoint of a model that you expect to be exactly identical (initializing a BertForSequenceClassification model from a BertForSequenceClassification model).\n"
     ]
    }
   ],
   "source": [
    "bert_large_cased = BertForMaskedLM.from_pretrained('bert-large-cased')"
   ]
  },
  {
   "cell_type": "code",
   "execution_count": 31,
   "metadata": {},
   "outputs": [],
   "source": [
    "torch.save(bert_large_cased, \"models/bert_large_cased.pt\")"
   ]
  },
  {
   "cell_type": "code",
   "execution_count": 47,
   "metadata": {},
   "outputs": [],
   "source": [
    "bert_large_cased = torch.load(\"models/bert_large_cased.pt\")"
   ]
  },
  {
   "cell_type": "code",
   "execution_count": 16,
   "metadata": {},
   "outputs": [],
   "source": [
    "man_bits = np.arange(1, 24, 2)\n",
    "exp_bits = np.arange(1, 9, 2)\n",
    "\n",
    "for m_bits in man_bits:\n",
    "    for e_bits in exp_bits:\n",
    "        model = copy.deepcopy(bert_large_cased)\n",
    "        model.to(cpu_device)\n",
    "        model.train()\n",
    "        floatinfo = CustomFloat(True, e_bits, m_bits)\n",
    "        quantizemodel(model, floatinfo)\n",
    "        torch.save(model, \"models/quantized_models/bert_large_cased/bert_large_cased_1_{}_{}.pt\".format(e_bits, m_bits))"
   ]
  },
  {
   "cell_type": "code",
   "execution_count": 48,
   "metadata": {},
   "outputs": [
    {
     "name": "stderr",
     "output_type": "stream",
     "text": [
      "Token indices sequence length is longer than the specified maximum sequence length for this model (281597 > 512). Running this sequence through the model will result in indexing errors\n"
     ]
    }
   ],
   "source": [
    "tokenizer = BertTokenizer.from_pretrained('bert-large-cased')\n",
    "encodings = tokenizer(\"\\n\\n\".join(test[\"text\"]), return_tensors=\"pt\")"
   ]
  },
  {
   "cell_type": "code",
   "execution_count": 49,
   "metadata": {},
   "outputs": [
    {
     "name": "stdout",
     "output_type": "stream",
     "text": [
      "##################### bert_large_cased model #####################\n"
     ]
    },
    {
     "name": "stderr",
     "output_type": "stream",
     "text": [
      "100%|█████████▉| 549/550 [03:16<00:00,  2.79it/s]\n"
     ]
    },
    {
     "name": "stdout",
     "output_type": "stream",
     "text": [
      "Unquantized (FP32) bert_large_cased Model perplexity: 1.434\n"
     ]
    },
    {
     "name": "stderr",
     "output_type": "stream",
     "text": [
      "100%|█████████▉| 549/550 [03:07<00:00,  2.93it/s]\n"
     ]
    },
    {
     "name": "stdout",
     "output_type": "stream",
     "text": [
      "Quantized (s: 1 e: 1 m: 1) bert_large_cased Model perplexity: inf\n"
     ]
    },
    {
     "name": "stderr",
     "output_type": "stream",
     "text": [
      "100%|█████████▉| 549/550 [03:16<00:00,  2.80it/s]\n"
     ]
    },
    {
     "name": "stdout",
     "output_type": "stream",
     "text": [
      "Quantized (s: 1 e: 3 m: 1) bert_large_cased Model perplexity: 134374326534144.000\n"
     ]
    },
    {
     "name": "stderr",
     "output_type": "stream",
     "text": [
      "100%|█████████▉| 549/550 [03:19<00:00,  2.75it/s]\n"
     ]
    },
    {
     "name": "stdout",
     "output_type": "stream",
     "text": [
      "Quantized (s: 1 e: 5 m: 1) bert_large_cased Model perplexity: 2440.594\n"
     ]
    },
    {
     "name": "stderr",
     "output_type": "stream",
     "text": [
      "100%|█████████▉| 549/550 [03:22<00:00,  2.71it/s]\n"
     ]
    },
    {
     "name": "stdout",
     "output_type": "stream",
     "text": [
      "Quantized (s: 1 e: 7 m: 1) bert_large_cased Model perplexity: 2404.482\n"
     ]
    },
    {
     "name": "stderr",
     "output_type": "stream",
     "text": [
      "100%|█████████▉| 549/550 [03:10<00:00,  2.88it/s]\n"
     ]
    },
    {
     "name": "stdout",
     "output_type": "stream",
     "text": [
      "Quantized (s: 1 e: 1 m: 3) bert_large_cased Model perplexity: inf\n"
     ]
    },
    {
     "name": "stderr",
     "output_type": "stream",
     "text": [
      "100%|█████████▉| 549/550 [03:34<00:00,  2.56it/s]\n"
     ]
    },
    {
     "name": "stdout",
     "output_type": "stream",
     "text": [
      "Quantized (s: 1 e: 3 m: 3) bert_large_cased Model perplexity: 189693741798260736.000\n"
     ]
    },
    {
     "name": "stderr",
     "output_type": "stream",
     "text": [
      "100%|█████████▉| 549/550 [03:18<00:00,  2.76it/s]\n"
     ]
    },
    {
     "name": "stdout",
     "output_type": "stream",
     "text": [
      "Quantized (s: 1 e: 5 m: 3) bert_large_cased Model perplexity: 1.592\n"
     ]
    },
    {
     "name": "stderr",
     "output_type": "stream",
     "text": [
      "100%|█████████▉| 549/550 [03:17<00:00,  2.77it/s]\n"
     ]
    },
    {
     "name": "stdout",
     "output_type": "stream",
     "text": [
      "Quantized (s: 1 e: 7 m: 3) bert_large_cased Model perplexity: 1.587\n"
     ]
    },
    {
     "name": "stderr",
     "output_type": "stream",
     "text": [
      "100%|█████████▉| 549/550 [03:10<00:00,  2.88it/s]\n"
     ]
    },
    {
     "name": "stdout",
     "output_type": "stream",
     "text": [
      "Quantized (s: 1 e: 1 m: 5) bert_large_cased Model perplexity: inf\n"
     ]
    },
    {
     "name": "stderr",
     "output_type": "stream",
     "text": [
      "100%|█████████▉| 549/550 [03:30<00:00,  2.61it/s]\n"
     ]
    },
    {
     "name": "stdout",
     "output_type": "stream",
     "text": [
      "Quantized (s: 1 e: 3 m: 5) bert_large_cased Model perplexity: 1746448601518702592.000\n"
     ]
    },
    {
     "name": "stderr",
     "output_type": "stream",
     "text": [
      "100%|█████████▉| 549/550 [03:24<00:00,  2.68it/s]\n"
     ]
    },
    {
     "name": "stdout",
     "output_type": "stream",
     "text": [
      "Quantized (s: 1 e: 5 m: 5) bert_large_cased Model perplexity: 1.574\n"
     ]
    },
    {
     "name": "stderr",
     "output_type": "stream",
     "text": [
      "100%|█████████▉| 549/550 [03:25<00:00,  2.67it/s]\n"
     ]
    },
    {
     "name": "stdout",
     "output_type": "stream",
     "text": [
      "Quantized (s: 1 e: 7 m: 5) bert_large_cased Model perplexity: 1.575\n"
     ]
    },
    {
     "name": "stderr",
     "output_type": "stream",
     "text": [
      "100%|█████████▉| 549/550 [03:14<00:00,  2.82it/s]\n"
     ]
    },
    {
     "name": "stdout",
     "output_type": "stream",
     "text": [
      "Quantized (s: 1 e: 1 m: 7) bert_large_cased Model perplexity: inf\n"
     ]
    },
    {
     "name": "stderr",
     "output_type": "stream",
     "text": [
      "100%|█████████▉| 549/550 [03:18<00:00,  2.77it/s]\n"
     ]
    },
    {
     "name": "stdout",
     "output_type": "stream",
     "text": [
      "Quantized (s: 1 e: 3 m: 7) bert_large_cased Model perplexity: 3387636556863897600.000\n"
     ]
    },
    {
     "name": "stderr",
     "output_type": "stream",
     "text": [
      "100%|█████████▉| 549/550 [03:17<00:00,  2.78it/s]\n"
     ]
    },
    {
     "name": "stdout",
     "output_type": "stream",
     "text": [
      "Quantized (s: 1 e: 5 m: 7) bert_large_cased Model perplexity: 1.580\n"
     ]
    },
    {
     "name": "stderr",
     "output_type": "stream",
     "text": [
      "100%|█████████▉| 549/550 [03:27<00:00,  2.64it/s]\n"
     ]
    },
    {
     "name": "stdout",
     "output_type": "stream",
     "text": [
      "Quantized (s: 1 e: 7 m: 7) bert_large_cased Model perplexity: 1.581\n"
     ]
    },
    {
     "name": "stderr",
     "output_type": "stream",
     "text": [
      "100%|█████████▉| 549/550 [03:07<00:00,  2.93it/s]\n"
     ]
    },
    {
     "name": "stdout",
     "output_type": "stream",
     "text": [
      "Quantized (s: 1 e: 1 m: 9) bert_large_cased Model perplexity: inf\n"
     ]
    },
    {
     "name": "stderr",
     "output_type": "stream",
     "text": [
      "100%|█████████▉| 549/550 [03:25<00:00,  2.67it/s]\n"
     ]
    },
    {
     "name": "stdout",
     "output_type": "stream",
     "text": [
      "Quantized (s: 1 e: 3 m: 9) bert_large_cased Model perplexity: 3903461441918730240.000\n"
     ]
    },
    {
     "name": "stderr",
     "output_type": "stream",
     "text": [
      "100%|█████████▉| 549/550 [03:21<00:00,  2.73it/s]\n"
     ]
    },
    {
     "name": "stdout",
     "output_type": "stream",
     "text": [
      "Quantized (s: 1 e: 5 m: 9) bert_large_cased Model perplexity: 1.587\n"
     ]
    },
    {
     "name": "stderr",
     "output_type": "stream",
     "text": [
      "100%|█████████▉| 549/550 [03:26<00:00,  2.66it/s]\n"
     ]
    },
    {
     "name": "stdout",
     "output_type": "stream",
     "text": [
      "Quantized (s: 1 e: 7 m: 9) bert_large_cased Model perplexity: 1.586\n"
     ]
    },
    {
     "name": "stderr",
     "output_type": "stream",
     "text": [
      "100%|█████████▉| 549/550 [03:11<00:00,  2.87it/s]\n"
     ]
    },
    {
     "name": "stdout",
     "output_type": "stream",
     "text": [
      "Quantized (s: 1 e: 1 m: 11) bert_large_cased Model perplexity: inf\n"
     ]
    },
    {
     "name": "stderr",
     "output_type": "stream",
     "text": [
      "100%|█████████▉| 549/550 [03:21<00:00,  2.72it/s]\n"
     ]
    },
    {
     "name": "stdout",
     "output_type": "stream",
     "text": [
      "Quantized (s: 1 e: 3 m: 11) bert_large_cased Model perplexity: 4250263627115790336.000\n"
     ]
    },
    {
     "name": "stderr",
     "output_type": "stream",
     "text": [
      "100%|█████████▉| 549/550 [03:15<00:00,  2.80it/s]\n"
     ]
    },
    {
     "name": "stdout",
     "output_type": "stream",
     "text": [
      "Quantized (s: 1 e: 5 m: 11) bert_large_cased Model perplexity: 1.590\n"
     ]
    },
    {
     "name": "stderr",
     "output_type": "stream",
     "text": [
      "100%|█████████▉| 549/550 [03:25<00:00,  2.67it/s]\n"
     ]
    },
    {
     "name": "stdout",
     "output_type": "stream",
     "text": [
      "Quantized (s: 1 e: 7 m: 11) bert_large_cased Model perplexity: 1.589\n"
     ]
    },
    {
     "name": "stderr",
     "output_type": "stream",
     "text": [
      "100%|█████████▉| 549/550 [03:06<00:00,  2.94it/s]\n"
     ]
    },
    {
     "name": "stdout",
     "output_type": "stream",
     "text": [
      "Quantized (s: 1 e: 1 m: 13) bert_large_cased Model perplexity: inf\n"
     ]
    },
    {
     "name": "stderr",
     "output_type": "stream",
     "text": [
      "100%|█████████▉| 549/550 [03:19<00:00,  2.75it/s]\n"
     ]
    },
    {
     "name": "stdout",
     "output_type": "stream",
     "text": [
      "Quantized (s: 1 e: 3 m: 13) bert_large_cased Model perplexity: 4207354086330204160.000\n"
     ]
    },
    {
     "name": "stderr",
     "output_type": "stream",
     "text": [
      "100%|█████████▉| 549/550 [03:20<00:00,  2.73it/s]\n"
     ]
    },
    {
     "name": "stdout",
     "output_type": "stream",
     "text": [
      "Quantized (s: 1 e: 5 m: 13) bert_large_cased Model perplexity: 1.589\n"
     ]
    },
    {
     "name": "stderr",
     "output_type": "stream",
     "text": [
      "100%|█████████▉| 549/550 [03:28<00:00,  2.63it/s]\n"
     ]
    },
    {
     "name": "stdout",
     "output_type": "stream",
     "text": [
      "Quantized (s: 1 e: 7 m: 13) bert_large_cased Model perplexity: 1.586\n"
     ]
    },
    {
     "name": "stderr",
     "output_type": "stream",
     "text": [
      "100%|█████████▉| 549/550 [03:11<00:00,  2.87it/s]\n"
     ]
    },
    {
     "name": "stdout",
     "output_type": "stream",
     "text": [
      "Quantized (s: 1 e: 1 m: 15) bert_large_cased Model perplexity: inf\n"
     ]
    },
    {
     "name": "stderr",
     "output_type": "stream",
     "text": [
      "100%|█████████▉| 549/550 [03:21<00:00,  2.73it/s]\n"
     ]
    },
    {
     "name": "stdout",
     "output_type": "stream",
     "text": [
      "Quantized (s: 1 e: 3 m: 15) bert_large_cased Model perplexity: 4373204145386029056.000\n"
     ]
    },
    {
     "name": "stderr",
     "output_type": "stream",
     "text": [
      "100%|█████████▉| 549/550 [03:24<00:00,  2.68it/s]\n"
     ]
    },
    {
     "name": "stdout",
     "output_type": "stream",
     "text": [
      "Quantized (s: 1 e: 5 m: 15) bert_large_cased Model perplexity: 1.587\n"
     ]
    },
    {
     "name": "stderr",
     "output_type": "stream",
     "text": [
      "100%|█████████▉| 549/550 [03:23<00:00,  2.70it/s]\n"
     ]
    },
    {
     "name": "stdout",
     "output_type": "stream",
     "text": [
      "Quantized (s: 1 e: 7 m: 15) bert_large_cased Model perplexity: 1.587\n"
     ]
    },
    {
     "name": "stderr",
     "output_type": "stream",
     "text": [
      "100%|█████████▉| 549/550 [03:08<00:00,  2.91it/s]\n"
     ]
    },
    {
     "name": "stdout",
     "output_type": "stream",
     "text": [
      "Quantized (s: 1 e: 1 m: 17) bert_large_cased Model perplexity: inf\n"
     ]
    },
    {
     "name": "stderr",
     "output_type": "stream",
     "text": [
      "100%|█████████▉| 549/550 [03:23<00:00,  2.70it/s]\n"
     ]
    },
    {
     "name": "stdout",
     "output_type": "stream",
     "text": [
      "Quantized (s: 1 e: 3 m: 17) bert_large_cased Model perplexity: 4343112986034962432.000\n"
     ]
    },
    {
     "name": "stderr",
     "output_type": "stream",
     "text": [
      "100%|█████████▉| 549/550 [03:23<00:00,  2.69it/s]\n"
     ]
    },
    {
     "name": "stdout",
     "output_type": "stream",
     "text": [
      "Quantized (s: 1 e: 5 m: 17) bert_large_cased Model perplexity: 1.590\n"
     ]
    },
    {
     "name": "stderr",
     "output_type": "stream",
     "text": [
      "100%|█████████▉| 549/550 [03:19<00:00,  2.76it/s]\n"
     ]
    },
    {
     "name": "stdout",
     "output_type": "stream",
     "text": [
      "Quantized (s: 1 e: 7 m: 17) bert_large_cased Model perplexity: 1.588\n"
     ]
    },
    {
     "name": "stderr",
     "output_type": "stream",
     "text": [
      "100%|█████████▉| 549/550 [03:11<00:00,  2.86it/s]\n"
     ]
    },
    {
     "name": "stdout",
     "output_type": "stream",
     "text": [
      "Quantized (s: 1 e: 1 m: 19) bert_large_cased Model perplexity: inf\n"
     ]
    },
    {
     "name": "stderr",
     "output_type": "stream",
     "text": [
      "100%|█████████▉| 549/550 [03:18<00:00,  2.77it/s]\n"
     ]
    },
    {
     "name": "stdout",
     "output_type": "stream",
     "text": [
      "Quantized (s: 1 e: 3 m: 19) bert_large_cased Model perplexity: 4231933668769136640.000\n"
     ]
    },
    {
     "name": "stderr",
     "output_type": "stream",
     "text": [
      "100%|█████████▉| 549/550 [03:28<00:00,  2.63it/s]\n"
     ]
    },
    {
     "name": "stdout",
     "output_type": "stream",
     "text": [
      "Quantized (s: 1 e: 5 m: 19) bert_large_cased Model perplexity: 1.590\n"
     ]
    },
    {
     "name": "stderr",
     "output_type": "stream",
     "text": [
      "100%|█████████▉| 549/550 [03:29<00:00,  2.63it/s]\n"
     ]
    },
    {
     "name": "stdout",
     "output_type": "stream",
     "text": [
      "Quantized (s: 1 e: 7 m: 19) bert_large_cased Model perplexity: 1.592\n"
     ]
    },
    {
     "name": "stderr",
     "output_type": "stream",
     "text": [
      "100%|█████████▉| 549/550 [03:09<00:00,  2.90it/s]\n"
     ]
    },
    {
     "name": "stdout",
     "output_type": "stream",
     "text": [
      "Quantized (s: 1 e: 1 m: 21) bert_large_cased Model perplexity: inf\n"
     ]
    },
    {
     "name": "stderr",
     "output_type": "stream",
     "text": [
      "100%|█████████▉| 549/550 [03:27<00:00,  2.65it/s]\n"
     ]
    },
    {
     "name": "stdout",
     "output_type": "stream",
     "text": [
      "Quantized (s: 1 e: 3 m: 21) bert_large_cased Model perplexity: 4280919935443533824.000\n"
     ]
    },
    {
     "name": "stderr",
     "output_type": "stream",
     "text": [
      "100%|█████████▉| 549/550 [03:17<00:00,  2.78it/s]\n"
     ]
    },
    {
     "name": "stdout",
     "output_type": "stream",
     "text": [
      "Quantized (s: 1 e: 5 m: 21) bert_large_cased Model perplexity: 1.594\n"
     ]
    },
    {
     "name": "stderr",
     "output_type": "stream",
     "text": [
      "100%|█████████▉| 549/550 [03:19<00:00,  2.75it/s]\n"
     ]
    },
    {
     "name": "stdout",
     "output_type": "stream",
     "text": [
      "Quantized (s: 1 e: 7 m: 21) bert_large_cased Model perplexity: 1.588\n"
     ]
    },
    {
     "name": "stderr",
     "output_type": "stream",
     "text": [
      "100%|█████████▉| 549/550 [03:07<00:00,  2.93it/s]\n"
     ]
    },
    {
     "name": "stdout",
     "output_type": "stream",
     "text": [
      "Quantized (s: 1 e: 1 m: 23) bert_large_cased Model perplexity: inf\n"
     ]
    },
    {
     "name": "stderr",
     "output_type": "stream",
     "text": [
      "100%|█████████▉| 549/550 [03:21<00:00,  2.73it/s]\n"
     ]
    },
    {
     "name": "stdout",
     "output_type": "stream",
     "text": [
      "Quantized (s: 1 e: 3 m: 23) bert_large_cased Model perplexity: 4331580483449126912.000\n"
     ]
    },
    {
     "name": "stderr",
     "output_type": "stream",
     "text": [
      "100%|█████████▉| 549/550 [03:24<00:00,  2.68it/s]\n"
     ]
    },
    {
     "name": "stdout",
     "output_type": "stream",
     "text": [
      "Quantized (s: 1 e: 5 m: 23) bert_large_cased Model perplexity: 1.588\n"
     ]
    },
    {
     "name": "stderr",
     "output_type": "stream",
     "text": [
      "100%|█████████▉| 549/550 [03:24<00:00,  2.69it/s]\n"
     ]
    },
    {
     "name": "stdout",
     "output_type": "stream",
     "text": [
      "Quantized (s: 1 e: 7 m: 23) bert_large_cased Model perplexity: 1.592\n"
     ]
    }
   ],
   "source": [
    "# For BERT\n",
    "bert_large_cased = torch.load(\"models/bert_large_cased.pt\")\n",
    "quantized_model_dir = \"models/quantized_models/bert_large_cased\"\n",
    "model_series_name = \"bert_large_cased\"\n",
    "output_fname = \"bert_large_cased_analysis.txt\"\n",
    "bert_large_cased_ppl, bert_large_cased_qppl = run_language_model(cuda_device, bert_large_cased, quantized_model_dir, model_series_name, encodings, output_fname)"
   ]
  },
  {
   "cell_type": "code",
   "execution_count": 50,
   "metadata": {},
   "outputs": [],
   "source": [
    "f = open(\"bert_large_cased_results.txt\", \"w\")\n",
    "f.write(str(bert_large_cased_ppl))\n",
    "f.write(\"\\n\")\n",
    "f.write(str(bert_large_cased_qppl))\n",
    "f.write(\"\\n\")\n",
    "f.close()"
   ]
  },
  {
   "cell_type": "code",
   "execution_count": 80,
   "metadata": {},
   "outputs": [],
   "source": [
    "with open(\"bert_large_cased_state.npy\", \"wb\") as f:\n",
    "    np.save(f, np.array(bert_large_cased_ppl))\n",
    "    np.save(f, bert_large_cased_qppl)"
   ]
  },
  {
   "cell_type": "markdown",
   "metadata": {},
   "source": [
    "## Fixed Point Clamping for Imagenet Models"
   ]
  },
  {
   "cell_type": "markdown",
   "metadata": {},
   "source": [
    "### 1. Alexnet"
   ]
  },
  {
   "cell_type": "code",
   "execution_count": 101,
   "metadata": {},
   "outputs": [],
   "source": [
    "model1 = torch.load(\"models/quantized_models/alexnets/alexnet_1_7_21.pt\")\n",
    "model2 = torch.load(\"models/quantized_models/alexnets/alexnet_1_7_21.pt\")\n"
   ]
  },
  {
   "cell_type": "code",
   "execution_count": 114,
   "metadata": {},
   "outputs": [
    {
     "data": {
      "text/plain": [
       "AlexNet(\n",
       "  (features): Sequential(\n",
       "    (0): Conv2d(3, 64, kernel_size=(11, 11), stride=(4, 4), padding=(2, 2))\n",
       "    (1): ReLU(inplace=True)\n",
       "    (2): MaxPool2d(kernel_size=3, stride=2, padding=0, dilation=1, ceil_mode=False)\n",
       "    (3): Conv2d(64, 192, kernel_size=(5, 5), stride=(1, 1), padding=(2, 2))\n",
       "    (4): ReLU(inplace=True)\n",
       "    (5): MaxPool2d(kernel_size=3, stride=2, padding=0, dilation=1, ceil_mode=False)\n",
       "    (6): Conv2d(192, 384, kernel_size=(3, 3), stride=(1, 1), padding=(1, 1))\n",
       "    (7): ReLU(inplace=True)\n",
       "    (8): Conv2d(384, 256, kernel_size=(3, 3), stride=(1, 1), padding=(1, 1))\n",
       "    (9): ReLU(inplace=True)\n",
       "    (10): Conv2d(256, 256, kernel_size=(3, 3), stride=(1, 1), padding=(1, 1))\n",
       "    (11): ReLU(inplace=True)\n",
       "    (12): MaxPool2d(kernel_size=3, stride=2, padding=0, dilation=1, ceil_mode=False)\n",
       "  )\n",
       "  (avgpool): AdaptiveAvgPool2d(output_size=(6, 6))\n",
       "  (classifier): Sequential(\n",
       "    (0): Dropout(p=0.5, inplace=False)\n",
       "    (1): Linear(in_features=9216, out_features=4096, bias=True)\n",
       "    (2): ReLU(inplace=True)\n",
       "    (3): Dropout(p=0.5, inplace=False)\n",
       "    (4): Linear(in_features=4096, out_features=1024, bias=True)\n",
       "    (5): ReLU(inplace=True)\n",
       "    (6): Linear(in_features=1024, out_features=10, bias=True)\n",
       "  )\n",
       ")"
      ]
     },
     "execution_count": 114,
     "metadata": {},
     "output_type": "execute_result"
    }
   ],
   "source": [
    "model1"
   ]
  },
  {
   "cell_type": "code",
   "execution_count": 110,
   "metadata": {},
   "outputs": [],
   "source": [
    "def clamp_hook(self, input, output):\n",
    "    s_bits = clamp_hook.s_bits\n",
    "    e_bits = clamp_hook.e_bits\n",
    "    m_bits = clamp_hook.m_bits\n",
    "\n",
    "    np_output = output.detach().cpu().numpy()\n",
    "    vec_clamp_float(np_output, s_bits, e_bits, m_bits)\n",
    "    output = torch.Tensor(np_output)\n",
    "    output.to(device)\n",
    "\n",
    "def print_layer_inputs_hook(self, input, output):\n",
    "    print(input)\n"
   ]
  },
  {
   "cell_type": "code",
   "execution_count": 111,
   "metadata": {},
   "outputs": [
    {
     "data": {
      "text/plain": [
       "<torch.utils.hooks.RemovableHandle at 0x1ae0164edf0>"
      ]
     },
     "execution_count": 111,
     "metadata": {},
     "output_type": "execute_result"
    }
   ],
   "source": [
    "clamp_hook.s_bits = 1\n",
    "clamp_hook.e_bits = 7\n",
    "clamp_hook.m_bits = 3\n",
    "\n",
    "model1.features[0].register_forward_hook(clamp_hook)\n",
    "model1.features[1].register_forward_hook(print_layer_inputs_hook)\n",
    "model2.features[1].register_forward_hook(print_layer_inputs_hook)"
   ]
  },
  {
   "cell_type": "code",
   "execution_count": null,
   "metadata": {},
   "outputs": [],
   "source": [
    "model1.to(device)\n",
    "with torch.no_grad():\n",
    "    for data in test_loader:\n",
    "        images, labels = data[0].to(device), data[1].to(device)\n",
    "        outputs = model1(images)\n",
    "        break\n"
   ]
  },
  {
   "cell_type": "code",
   "execution_count": null,
   "metadata": {},
   "outputs": [],
   "source": [
    "model2.to(device)\n",
    "with torch.no_grad():\n",
    "    for data in test_loader:\n",
    "        images, labels = data[0].to(device), data[1].to(device)\n",
    "        outputs = model2(images)\n",
    "        break"
   ]
  },
  {
   "cell_type": "markdown",
   "metadata": {},
   "source": [
    "## Print Results"
   ]
  },
  {
   "cell_type": "code",
   "execution_count": 116,
   "metadata": {},
   "outputs": [],
   "source": [
    "def printres(data, qdata, qdata2 = None, isqdata2 = False):\n",
    "    man_bits = np.arange(1, 24, 2)\n",
    "    exp_bits = np.arange(1, 9, 2)\n",
    "    print(\"Unquantized {:.2f}\".format(data))\n",
    "    for i,m_bits in enumerate(man_bits):\n",
    "        for j,e_bits in enumerate(exp_bits):\n",
    "            if isqdata2 == True:\n",
    "                print(\"{}\\t{}\\t{:.2f}\\t{:.2f}\".format(e_bits, m_bits, qdata[i][j]*100, qdata2[i][j]*1000))\n",
    "            else:\n",
    "                print(\"{}\\t{}\\t{:.2f}\".format(e_bits, m_bits, qdata[i][j]))"
   ]
  },
  {
   "cell_type": "code",
   "execution_count": 130,
   "metadata": {},
   "outputs": [],
   "source": [
    "def plotdata(zdata, zlabel):\n",
    "    man_bits = np.arange(1, 24, 2)\n",
    "    exp_bits = np.arange(1, 9, 2)\n",
    "    fig, ax = plt.subplots(subplot_kw={\"projection\": \"3d\"})\n",
    "    X, Y = np.meshgrid(exp_bits, man_bits)\n",
    "    surf = ax.plot_surface(X, Y, zdata , cmap=cm.coolwarm, linewidth=0, antialiased=False)\n",
    "    plt.title('Weights and Bias floating point downclamping')\n",
    "    ax.set_xlabel('num exponent bits')\n",
    "    ax.set_ylabel('num significand bits')\n",
    "    ax.set_zlabel(zlabel)\n",
    "    plt.show()\n",
    "\n",
    "def plotdata2(zdata, zlabel, zdata2, zlabel2):\n",
    "    man_bits = np.arange(1, 24, 2)\n",
    "    exp_bits = np.arange(1, 9, 2)\n",
    "    fig = plt.figure(figsize=(12,7))\n",
    "    X, Y = np.meshgrid(exp_bits, man_bits)\n",
    "    ax1 = fig.add_subplot(1, 2, 1, projection='3d')\n",
    "    ax2 = fig.add_subplot(1, 2, 2, projection='3d')\n",
    "    surf = ax1.plot_surface(X, Y, zdata , cmap=cm.coolwarm, linewidth=0, antialiased=False)\n",
    "    surf2 = ax2.plot_surface(X, Y, zdata2 , cmap=cm.coolwarm, linewidth=0, antialiased=False)\n",
    "    plt.title('Weights and Bias floating point downclamping')\n",
    "    ax1.set_xlabel('num exponent bits')\n",
    "    ax1.set_ylabel('num significand bits')\n",
    "    ax1.set_zlabel(zlabel)\n",
    "    ax2.set_xlabel('num exponent bits')\n",
    "    ax2.set_ylabel('num significand bits')\n",
    "    ax2.set_zlabel(zlabel2)\n",
    "    plt.show()"
   ]
  },
  {
   "cell_type": "code",
   "execution_count": 132,
   "metadata": {},
   "outputs": [
    {
     "data": {
      "image/png": "[encoded data removed]",
      "text/plain": [
       "<Figure size 864x504 with 2 Axes>"
      ]
     },
     "metadata": {
      "needs_background": "light"
     },
     "output_type": "display_data"
    }
   ],
   "source": [
    "plotdata2(np.array(alexnet_qacc), \"Test Accuracy\", np.array(alexnet_qlatency), \"Latency\")"
   ]
  },
  {
   "cell_type": "code",
   "execution_count": null,
   "metadata": {},
   "outputs": [],
   "source": [
    "printres(alexnet_acc, alexnet_qacc)"
   ]
  },
  {
   "cell_type": "code",
   "execution_count": null,
   "metadata": {},
   "outputs": [],
   "source": [
    "printres(alexnet_latency, alexnet_qlatency)"
   ]
  },
  {
   "cell_type": "code",
   "execution_count": 123,
   "metadata": {},
   "outputs": [
    {
     "data": {
      "image/png": "[encoded data removed]",
      "text/plain": [
       "<Figure size 576x288 with 1 Axes>"
      ]
     },
     "metadata": {
      "needs_background": "light"
     },
     "output_type": "display_data"
    }
   ],
   "source": [
    "plotdata(np.array(bert_large_cased_qppl), \"Test Accuracy\")"
   ]
  },
  {
   "cell_type": "code",
   "execution_count": null,
   "metadata": {},
   "outputs": [],
   "source": [
    "plotdata(alexnet_qlatency, \"Latency\")"
   ]
  },
  {
   "cell_type": "code",
   "execution_count": 89,
   "metadata": {},
   "outputs": [],
   "source": [
    "def store_notebook_state(fname, alexnet_acc, alexnet_latency, alexnet_qacc, alexnet_qlatency, resnet50_acc, resnet50_latency, resnet50_qacc, resnet50_qlatency, gpt2_ppl, gpt2_qppl, bert_large_cased_ppl, bert_large_cased_qppl):\n",
    "    with open(fname, \"wb\") as f:\n",
    "        np.save(f, np.array(alexnet_acc))\n",
    "        np.save(f, np.array(alexnet_latency))\n",
    "        np.save(f, alexnet_qacc)\n",
    "        np.save(f, alexnet_qlatency)\n",
    "        np.save(f, np.array(resnet50_acc))\n",
    "        np.save(f, np.array(resnet50_latency))\n",
    "        np.save(f, resnet50_qacc)\n",
    "        np.save(f, resnet50_qlatency)\n",
    "        np.save(f, np.array(gpt2_ppl)) # .data.detach().cpu().numpy()\n",
    "        np.save(f, gpt2_qppl)\n",
    "        np.save(f, np.array(bert_large_cased_ppl))\n",
    "        np.save(f, bert_large_cased_qppl)"
   ]
  },
  {
   "cell_type": "code",
   "execution_count": 90,
   "metadata": {},
   "outputs": [],
   "source": [
    "def load_notebook_state(fname):\n",
    "    with open(fname, \"rb\") as f:\n",
    "        alexnet_acc = np.load(f)\n",
    "        alexnet_latency = np.load(f)\n",
    "        alexnet_qacc = np.load(f)\n",
    "        alexnet_qlatency = np.load(f)\n",
    "        resnet50_acc = np.load(f)\n",
    "        resnet50_latency = np.load(f)\n",
    "        resnet50_qacc = np.load(f)\n",
    "        resnet50_qlatency = np.load(f)\n",
    "        gpt2_ppl = np.load(f)\n",
    "        gpt2_qppl = np.load(f)\n",
    "        bert_large_cased_ppl = np.load(f)\n",
    "        bert_large_cased_qppl = np.load(f)\n",
    "    \n",
    "    return alexnet_acc, alexnet_latency, alexnet_qacc, alexnet_qlatency, resnet50_acc, resnet50_latency, resnet50_qacc, resnet50_qlatency, gpt2_ppl, gpt2_qppl, bert_large_cased_ppl, bert_large_cased_qppl"
   ]
  },
  {
   "cell_type": "code",
   "execution_count": 100,
   "metadata": {},
   "outputs": [],
   "source": [
    "fname = \"notebook_state.npy\"\n",
    "store_notebook_state(fname, alexnet_acc, alexnet_latency, alexnet_qacc, alexnet_qlatency, resnet50_acc, resnet50_latency, resnet50_qacc, resnet50_qlatency, gpt2_ppl, gpt2_qppl, bert_large_cased_ppl, bert_large_cased_qppl)"
   ]
  }
 ],
 "metadata": {
  "kernelspec": {
   "display_name": "Python 3.9.6 64-bit",
   "language": "python",
   "name": "python3"
  },
  "language_info": {
   "codemirror_mode": {
    "name": "ipython",
    "version": 3
   },
   "file_extension": ".py",
   "mimetype": "text/x-python",
   "name": "python",
   "nbconvert_exporter": "python",
   "pygments_lexer": "ipython3",
   "version": "3.9.6"
  },
  "orig_nbformat": 4,
  "vscode": {
   "interpreter": {
    "hash": "91babdb3e9c6dbb128d1e4b0af1bd459a64cafbed665bd9c198525f69f2a5929"
   }
  }
 },
 "nbformat": 4,
 "nbformat_minor": 2
}
